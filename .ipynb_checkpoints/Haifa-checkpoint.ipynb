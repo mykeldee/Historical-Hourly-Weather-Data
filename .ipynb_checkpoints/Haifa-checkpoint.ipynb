{
 "cells": [
  {
   "cell_type": "markdown",
   "id": "c8a033b5",
   "metadata": {},
   "source": [
    "### Import libraries"
   ]
  },
  {
   "cell_type": "code",
   "execution_count": 1,
   "id": "ba03c1dd",
   "metadata": {},
   "outputs": [],
   "source": [
    "import pandas as pd\n",
    "import numpy as np\n",
    "import seaborn as sns\n",
    "from matplotlib import pyplot as plt\n",
    "import os\n",
    "from datetime import datetime"
   ]
  },
  {
   "cell_type": "markdown",
   "id": "2acc2d1f",
   "metadata": {},
   "source": [
    "### Read city file"
   ]
  },
  {
   "cell_type": "code",
   "execution_count": 2,
   "id": "76b02b4a",
   "metadata": {},
   "outputs": [],
   "source": [
    "Eilat = pd.read_csv('./cities/Eilat.csv')"
   ]
  },
  {
   "cell_type": "markdown",
   "id": "b06ae7c9",
   "metadata": {},
   "source": [
    "### Check rows, columns and data types"
   ]
  },
  {
   "cell_type": "code",
   "execution_count": 3,
   "id": "2ab2f8f2",
   "metadata": {},
   "outputs": [
    {
     "data": {
      "text/html": [
       "<div>\n",
       "<style scoped>\n",
       "    .dataframe tbody tr th:only-of-type {\n",
       "        vertical-align: middle;\n",
       "    }\n",
       "\n",
       "    .dataframe tbody tr th {\n",
       "        vertical-align: top;\n",
       "    }\n",
       "\n",
       "    .dataframe thead th {\n",
       "        text-align: right;\n",
       "    }\n",
       "</style>\n",
       "<table border=\"1\" class=\"dataframe\">\n",
       "  <thead>\n",
       "    <tr style=\"text-align: right;\">\n",
       "      <th></th>\n",
       "      <th>Unnamed: 0</th>\n",
       "      <th>datetime</th>\n",
       "      <th>Eilat_humidity</th>\n",
       "      <th>Eilat_pressure</th>\n",
       "      <th>Eilat_temperature</th>\n",
       "      <th>Eilat_weather_description</th>\n",
       "      <th>Eilat_wind_direction</th>\n",
       "      <th>Eilat_wind_speed</th>\n",
       "    </tr>\n",
       "  </thead>\n",
       "  <tbody>\n",
       "    <tr>\n",
       "      <th>0</th>\n",
       "      <td>0</td>\n",
       "      <td>2012-10-01 12:00:00</td>\n",
       "      <td>25.0</td>\n",
       "      <td>1011.0</td>\n",
       "      <td>309.100000</td>\n",
       "      <td>haze</td>\n",
       "      <td>360.0</td>\n",
       "      <td>8.0</td>\n",
       "    </tr>\n",
       "    <tr>\n",
       "      <th>1</th>\n",
       "      <td>1</td>\n",
       "      <td>2012-10-01 13:00:00</td>\n",
       "      <td>22.0</td>\n",
       "      <td>1010.0</td>\n",
       "      <td>310.580000</td>\n",
       "      <td>haze</td>\n",
       "      <td>30.0</td>\n",
       "      <td>8.0</td>\n",
       "    </tr>\n",
       "    <tr>\n",
       "      <th>2</th>\n",
       "      <td>2</td>\n",
       "      <td>2012-10-01 14:00:00</td>\n",
       "      <td>22.0</td>\n",
       "      <td>1010.0</td>\n",
       "      <td>310.495769</td>\n",
       "      <td>broken clouds</td>\n",
       "      <td>30.0</td>\n",
       "      <td>8.0</td>\n",
       "    </tr>\n",
       "    <tr>\n",
       "      <th>3</th>\n",
       "      <td>3</td>\n",
       "      <td>2012-10-01 15:00:00</td>\n",
       "      <td>22.0</td>\n",
       "      <td>1010.0</td>\n",
       "      <td>310.411538</td>\n",
       "      <td>broken clouds</td>\n",
       "      <td>30.0</td>\n",
       "      <td>8.0</td>\n",
       "    </tr>\n",
       "    <tr>\n",
       "      <th>4</th>\n",
       "      <td>4</td>\n",
       "      <td>2012-10-01 16:00:00</td>\n",
       "      <td>22.0</td>\n",
       "      <td>1010.0</td>\n",
       "      <td>310.327308</td>\n",
       "      <td>broken clouds</td>\n",
       "      <td>30.0</td>\n",
       "      <td>8.0</td>\n",
       "    </tr>\n",
       "  </tbody>\n",
       "</table>\n",
       "</div>"
      ],
      "text/plain": [
       "   Unnamed: 0             datetime  Eilat_humidity  Eilat_pressure  \\\n",
       "0           0  2012-10-01 12:00:00            25.0          1011.0   \n",
       "1           1  2012-10-01 13:00:00            22.0          1010.0   \n",
       "2           2  2012-10-01 14:00:00            22.0          1010.0   \n",
       "3           3  2012-10-01 15:00:00            22.0          1010.0   \n",
       "4           4  2012-10-01 16:00:00            22.0          1010.0   \n",
       "\n",
       "   Eilat_temperature Eilat_weather_description  Eilat_wind_direction  \\\n",
       "0         309.100000                      haze                 360.0   \n",
       "1         310.580000                      haze                  30.0   \n",
       "2         310.495769             broken clouds                  30.0   \n",
       "3         310.411538             broken clouds                  30.0   \n",
       "4         310.327308             broken clouds                  30.0   \n",
       "\n",
       "   Eilat_wind_speed  \n",
       "0               8.0  \n",
       "1               8.0  \n",
       "2               8.0  \n",
       "3               8.0  \n",
       "4               8.0  "
      ]
     },
     "execution_count": 3,
     "metadata": {},
     "output_type": "execute_result"
    }
   ],
   "source": [
    "Eilat.head()"
   ]
  },
  {
   "cell_type": "code",
   "execution_count": 4,
   "id": "6f9309a7",
   "metadata": {},
   "outputs": [
    {
     "data": {
      "text/plain": [
       "Unnamed: 0                     int64\n",
       "datetime                      object\n",
       "Eilat_humidity               float64\n",
       "Eilat_pressure               float64\n",
       "Eilat_temperature            float64\n",
       "Eilat_weather_description     object\n",
       "Eilat_wind_direction         float64\n",
       "Eilat_wind_speed             float64\n",
       "dtype: object"
      ]
     },
     "execution_count": 4,
     "metadata": {},
     "output_type": "execute_result"
    }
   ],
   "source": [
    "Eilat.dtypes"
   ]
  },
  {
   "cell_type": "markdown",
   "id": "fc184e41",
   "metadata": {},
   "source": [
    "### Data Cleaning\n",
    "#### 1. Remove unwanted columns and formating of columns"
   ]
  },
  {
   "cell_type": "code",
   "execution_count": 5,
   "id": "57d08919",
   "metadata": {},
   "outputs": [
    {
     "data": {
      "text/html": [
       "<div>\n",
       "<style scoped>\n",
       "    .dataframe tbody tr th:only-of-type {\n",
       "        vertical-align: middle;\n",
       "    }\n",
       "\n",
       "    .dataframe tbody tr th {\n",
       "        vertical-align: top;\n",
       "    }\n",
       "\n",
       "    .dataframe thead th {\n",
       "        text-align: right;\n",
       "    }\n",
       "</style>\n",
       "<table border=\"1\" class=\"dataframe\">\n",
       "  <thead>\n",
       "    <tr style=\"text-align: right;\">\n",
       "      <th></th>\n",
       "      <th>datetime</th>\n",
       "      <th>Eilat_humidity</th>\n",
       "      <th>Eilat_pressure</th>\n",
       "      <th>Eilat_temperature</th>\n",
       "      <th>Eilat_weather_description</th>\n",
       "      <th>Eilat_wind_direction</th>\n",
       "      <th>Eilat_wind_speed</th>\n",
       "    </tr>\n",
       "  </thead>\n",
       "  <tbody>\n",
       "    <tr>\n",
       "      <th>0</th>\n",
       "      <td>2012-10-01 12:00:00</td>\n",
       "      <td>25.0</td>\n",
       "      <td>1011.0</td>\n",
       "      <td>309.100000</td>\n",
       "      <td>haze</td>\n",
       "      <td>360.0</td>\n",
       "      <td>8.0</td>\n",
       "    </tr>\n",
       "    <tr>\n",
       "      <th>1</th>\n",
       "      <td>2012-10-01 13:00:00</td>\n",
       "      <td>22.0</td>\n",
       "      <td>1010.0</td>\n",
       "      <td>310.580000</td>\n",
       "      <td>haze</td>\n",
       "      <td>30.0</td>\n",
       "      <td>8.0</td>\n",
       "    </tr>\n",
       "    <tr>\n",
       "      <th>2</th>\n",
       "      <td>2012-10-01 14:00:00</td>\n",
       "      <td>22.0</td>\n",
       "      <td>1010.0</td>\n",
       "      <td>310.495769</td>\n",
       "      <td>broken clouds</td>\n",
       "      <td>30.0</td>\n",
       "      <td>8.0</td>\n",
       "    </tr>\n",
       "    <tr>\n",
       "      <th>3</th>\n",
       "      <td>2012-10-01 15:00:00</td>\n",
       "      <td>22.0</td>\n",
       "      <td>1010.0</td>\n",
       "      <td>310.411538</td>\n",
       "      <td>broken clouds</td>\n",
       "      <td>30.0</td>\n",
       "      <td>8.0</td>\n",
       "    </tr>\n",
       "    <tr>\n",
       "      <th>4</th>\n",
       "      <td>2012-10-01 16:00:00</td>\n",
       "      <td>22.0</td>\n",
       "      <td>1010.0</td>\n",
       "      <td>310.327308</td>\n",
       "      <td>broken clouds</td>\n",
       "      <td>30.0</td>\n",
       "      <td>8.0</td>\n",
       "    </tr>\n",
       "  </tbody>\n",
       "</table>\n",
       "</div>"
      ],
      "text/plain": [
       "             datetime  Eilat_humidity  Eilat_pressure  Eilat_temperature  \\\n",
       "0 2012-10-01 12:00:00            25.0          1011.0         309.100000   \n",
       "1 2012-10-01 13:00:00            22.0          1010.0         310.580000   \n",
       "2 2012-10-01 14:00:00            22.0          1010.0         310.495769   \n",
       "3 2012-10-01 15:00:00            22.0          1010.0         310.411538   \n",
       "4 2012-10-01 16:00:00            22.0          1010.0         310.327308   \n",
       "\n",
       "  Eilat_weather_description  Eilat_wind_direction  Eilat_wind_speed  \n",
       "0                      haze                 360.0               8.0  \n",
       "1                      haze                  30.0               8.0  \n",
       "2             broken clouds                  30.0               8.0  \n",
       "3             broken clouds                  30.0               8.0  \n",
       "4             broken clouds                  30.0               8.0  "
      ]
     },
     "execution_count": 5,
     "metadata": {},
     "output_type": "execute_result"
    }
   ],
   "source": [
    "Eilat.drop('Unnamed: 0', axis=1, inplace=True) #Remove 'Unnamed: 0' column\n",
    "Eilat['datetime']=pd.to_datetime(Eilat['datetime']) #change format of 'datetime' from string to date\n",
    "Eilat.head()"
   ]
  },
  {
   "cell_type": "markdown",
   "id": "d8b07680",
   "metadata": {},
   "source": [
    "#### 2. Remove NaN values"
   ]
  },
  {
   "cell_type": "code",
   "execution_count": 6,
   "id": "a94728ce",
   "metadata": {},
   "outputs": [
    {
     "data": {
      "text/plain": [
       "datetime                       0\n",
       "Eilat_humidity               970\n",
       "Eilat_pressure               792\n",
       "Eilat_temperature            792\n",
       "Eilat_weather_description    792\n",
       "Eilat_wind_direction         797\n",
       "Eilat_wind_speed             792\n",
       "dtype: int64"
      ]
     },
     "execution_count": 6,
     "metadata": {},
     "output_type": "execute_result"
    }
   ],
   "source": [
    "Eilat.isna().sum() #Checking for total NaN values for each column"
   ]
  },
  {
   "cell_type": "code",
   "execution_count": 7,
   "id": "3c3d58e1",
   "metadata": {},
   "outputs": [
    {
     "data": {
      "text/html": [
       "<div>\n",
       "<style scoped>\n",
       "    .dataframe tbody tr th:only-of-type {\n",
       "        vertical-align: middle;\n",
       "    }\n",
       "\n",
       "    .dataframe tbody tr th {\n",
       "        vertical-align: top;\n",
       "    }\n",
       "\n",
       "    .dataframe thead th {\n",
       "        text-align: right;\n",
       "    }\n",
       "</style>\n",
       "<table border=\"1\" class=\"dataframe\">\n",
       "  <thead>\n",
       "    <tr style=\"text-align: right;\">\n",
       "      <th></th>\n",
       "      <th>datetime</th>\n",
       "      <th>Eilat_humidity</th>\n",
       "      <th>Eilat_pressure</th>\n",
       "      <th>Eilat_temperature</th>\n",
       "      <th>Eilat_weather_description</th>\n",
       "      <th>Eilat_wind_direction</th>\n",
       "      <th>Eilat_wind_speed</th>\n",
       "    </tr>\n",
       "  </thead>\n",
       "  <tbody>\n",
       "    <tr>\n",
       "      <th>37083</th>\n",
       "      <td>2016-12-24 15:00:00</td>\n",
       "      <td>NaN</td>\n",
       "      <td>1015.0</td>\n",
       "      <td>289.66</td>\n",
       "      <td>haze</td>\n",
       "      <td>360.0</td>\n",
       "      <td>2.0</td>\n",
       "    </tr>\n",
       "    <tr>\n",
       "      <th>37154</th>\n",
       "      <td>2016-12-27 14:00:00</td>\n",
       "      <td>34.0</td>\n",
       "      <td>1018.0</td>\n",
       "      <td>291.15</td>\n",
       "      <td>broken clouds</td>\n",
       "      <td>NaN</td>\n",
       "      <td>7.0</td>\n",
       "    </tr>\n",
       "    <tr>\n",
       "      <th>44084</th>\n",
       "      <td>2017-10-12 08:00:00</td>\n",
       "      <td>53.0</td>\n",
       "      <td>1014.0</td>\n",
       "      <td>298.15</td>\n",
       "      <td>few clouds</td>\n",
       "      <td>NaN</td>\n",
       "      <td>8.0</td>\n",
       "    </tr>\n",
       "    <tr>\n",
       "      <th>44461</th>\n",
       "      <td>2017-10-28 01:00:00</td>\n",
       "      <td>NaN</td>\n",
       "      <td>NaN</td>\n",
       "      <td>NaN</td>\n",
       "      <td>NaN</td>\n",
       "      <td>NaN</td>\n",
       "      <td>NaN</td>\n",
       "    </tr>\n",
       "    <tr>\n",
       "      <th>44462</th>\n",
       "      <td>2017-10-28 02:00:00</td>\n",
       "      <td>NaN</td>\n",
       "      <td>NaN</td>\n",
       "      <td>NaN</td>\n",
       "      <td>NaN</td>\n",
       "      <td>NaN</td>\n",
       "      <td>NaN</td>\n",
       "    </tr>\n",
       "    <tr>\n",
       "      <th>...</th>\n",
       "      <td>...</td>\n",
       "      <td>...</td>\n",
       "      <td>...</td>\n",
       "      <td>...</td>\n",
       "      <td>...</td>\n",
       "      <td>...</td>\n",
       "      <td>...</td>\n",
       "    </tr>\n",
       "    <tr>\n",
       "      <th>45248</th>\n",
       "      <td>2017-11-29 20:00:00</td>\n",
       "      <td>NaN</td>\n",
       "      <td>NaN</td>\n",
       "      <td>NaN</td>\n",
       "      <td>NaN</td>\n",
       "      <td>NaN</td>\n",
       "      <td>NaN</td>\n",
       "    </tr>\n",
       "    <tr>\n",
       "      <th>45249</th>\n",
       "      <td>2017-11-29 21:00:00</td>\n",
       "      <td>NaN</td>\n",
       "      <td>NaN</td>\n",
       "      <td>NaN</td>\n",
       "      <td>NaN</td>\n",
       "      <td>NaN</td>\n",
       "      <td>NaN</td>\n",
       "    </tr>\n",
       "    <tr>\n",
       "      <th>45250</th>\n",
       "      <td>2017-11-29 22:00:00</td>\n",
       "      <td>NaN</td>\n",
       "      <td>NaN</td>\n",
       "      <td>NaN</td>\n",
       "      <td>NaN</td>\n",
       "      <td>NaN</td>\n",
       "      <td>NaN</td>\n",
       "    </tr>\n",
       "    <tr>\n",
       "      <th>45251</th>\n",
       "      <td>2017-11-29 23:00:00</td>\n",
       "      <td>NaN</td>\n",
       "      <td>NaN</td>\n",
       "      <td>NaN</td>\n",
       "      <td>NaN</td>\n",
       "      <td>NaN</td>\n",
       "      <td>NaN</td>\n",
       "    </tr>\n",
       "    <tr>\n",
       "      <th>45252</th>\n",
       "      <td>2017-11-30 00:00:00</td>\n",
       "      <td>NaN</td>\n",
       "      <td>NaN</td>\n",
       "      <td>NaN</td>\n",
       "      <td>NaN</td>\n",
       "      <td>NaN</td>\n",
       "      <td>NaN</td>\n",
       "    </tr>\n",
       "  </tbody>\n",
       "</table>\n",
       "<p>795 rows × 7 columns</p>\n",
       "</div>"
      ],
      "text/plain": [
       "                 datetime  Eilat_humidity  Eilat_pressure  Eilat_temperature  \\\n",
       "37083 2016-12-24 15:00:00             NaN          1015.0             289.66   \n",
       "37154 2016-12-27 14:00:00            34.0          1018.0             291.15   \n",
       "44084 2017-10-12 08:00:00            53.0          1014.0             298.15   \n",
       "44461 2017-10-28 01:00:00             NaN             NaN                NaN   \n",
       "44462 2017-10-28 02:00:00             NaN             NaN                NaN   \n",
       "...                   ...             ...             ...                ...   \n",
       "45248 2017-11-29 20:00:00             NaN             NaN                NaN   \n",
       "45249 2017-11-29 21:00:00             NaN             NaN                NaN   \n",
       "45250 2017-11-29 22:00:00             NaN             NaN                NaN   \n",
       "45251 2017-11-29 23:00:00             NaN             NaN                NaN   \n",
       "45252 2017-11-30 00:00:00             NaN             NaN                NaN   \n",
       "\n",
       "      Eilat_weather_description  Eilat_wind_direction  Eilat_wind_speed  \n",
       "37083                      haze                 360.0               2.0  \n",
       "37154             broken clouds                   NaN               7.0  \n",
       "44084                few clouds                   NaN               8.0  \n",
       "44461                       NaN                   NaN               NaN  \n",
       "44462                       NaN                   NaN               NaN  \n",
       "...                         ...                   ...               ...  \n",
       "45248                       NaN                   NaN               NaN  \n",
       "45249                       NaN                   NaN               NaN  \n",
       "45250                       NaN                   NaN               NaN  \n",
       "45251                       NaN                   NaN               NaN  \n",
       "45252                       NaN                   NaN               NaN  \n",
       "\n",
       "[795 rows x 7 columns]"
      ]
     },
     "execution_count": 7,
     "metadata": {},
     "output_type": "execute_result"
    }
   ],
   "source": [
    "Eilat_nan = Eilat[Eilat.isna().any(axis=1)]\n",
    "Eilat_nan.tail(795) #checking for multiple NaN values per row"
   ]
  },
  {
   "cell_type": "code",
   "execution_count": 8,
   "id": "eef30c03",
   "metadata": {},
   "outputs": [],
   "source": [
    "Eilat = Eilat[Eilat.isnull().sum(axis=1) <= 1] #Removing rows with multiple NaN values"
   ]
  },
  {
   "cell_type": "code",
   "execution_count": 9,
   "id": "945bc142",
   "metadata": {},
   "outputs": [
    {
     "data": {
      "text/plain": [
       "(44461, 7)"
      ]
     },
     "execution_count": 9,
     "metadata": {},
     "output_type": "execute_result"
    }
   ],
   "source": [
    "Eilat.shape"
   ]
  },
  {
   "cell_type": "code",
   "execution_count": 10,
   "id": "230dae04",
   "metadata": {},
   "outputs": [
    {
     "data": {
      "text/html": [
       "<div>\n",
       "<style scoped>\n",
       "    .dataframe tbody tr th:only-of-type {\n",
       "        vertical-align: middle;\n",
       "    }\n",
       "\n",
       "    .dataframe tbody tr th {\n",
       "        vertical-align: top;\n",
       "    }\n",
       "\n",
       "    .dataframe thead th {\n",
       "        text-align: right;\n",
       "    }\n",
       "</style>\n",
       "<table border=\"1\" class=\"dataframe\">\n",
       "  <thead>\n",
       "    <tr style=\"text-align: right;\">\n",
       "      <th></th>\n",
       "      <th>datetime</th>\n",
       "      <th>Eilat_humidity</th>\n",
       "      <th>Eilat_pressure</th>\n",
       "      <th>Eilat_temperature</th>\n",
       "      <th>Eilat_weather_description</th>\n",
       "      <th>Eilat_wind_direction</th>\n",
       "      <th>Eilat_wind_speed</th>\n",
       "    </tr>\n",
       "  </thead>\n",
       "  <tbody>\n",
       "    <tr>\n",
       "      <th>1414</th>\n",
       "      <td>2012-11-29 10:00:00</td>\n",
       "      <td>NaN</td>\n",
       "      <td>1020.0</td>\n",
       "      <td>293.15</td>\n",
       "      <td>sky is clear</td>\n",
       "      <td>0.0</td>\n",
       "      <td>0.0</td>\n",
       "    </tr>\n",
       "    <tr>\n",
       "      <th>1418</th>\n",
       "      <td>2012-11-29 14:00:00</td>\n",
       "      <td>NaN</td>\n",
       "      <td>1019.0</td>\n",
       "      <td>294.15</td>\n",
       "      <td>sky is clear</td>\n",
       "      <td>0.0</td>\n",
       "      <td>0.0</td>\n",
       "    </tr>\n",
       "    <tr>\n",
       "      <th>1537</th>\n",
       "      <td>2012-12-04 13:00:00</td>\n",
       "      <td>29.0</td>\n",
       "      <td>1012.0</td>\n",
       "      <td>298.80</td>\n",
       "      <td>sky is clear</td>\n",
       "      <td>NaN</td>\n",
       "      <td>2.0</td>\n",
       "    </tr>\n",
       "    <tr>\n",
       "      <th>1545</th>\n",
       "      <td>2012-12-04 21:00:00</td>\n",
       "      <td>NaN</td>\n",
       "      <td>1016.0</td>\n",
       "      <td>287.15</td>\n",
       "      <td>sky is clear</td>\n",
       "      <td>0.0</td>\n",
       "      <td>0.0</td>\n",
       "    </tr>\n",
       "    <tr>\n",
       "      <th>1546</th>\n",
       "      <td>2012-12-04 22:00:00</td>\n",
       "      <td>NaN</td>\n",
       "      <td>1016.0</td>\n",
       "      <td>287.15</td>\n",
       "      <td>sky is clear</td>\n",
       "      <td>0.0</td>\n",
       "      <td>0.0</td>\n",
       "    </tr>\n",
       "    <tr>\n",
       "      <th>...</th>\n",
       "      <td>...</td>\n",
       "      <td>...</td>\n",
       "      <td>...</td>\n",
       "      <td>...</td>\n",
       "      <td>...</td>\n",
       "      <td>...</td>\n",
       "      <td>...</td>\n",
       "    </tr>\n",
       "    <tr>\n",
       "      <th>37081</th>\n",
       "      <td>2016-12-24 13:00:00</td>\n",
       "      <td>NaN</td>\n",
       "      <td>1014.0</td>\n",
       "      <td>288.64</td>\n",
       "      <td>haze</td>\n",
       "      <td>320.0</td>\n",
       "      <td>8.0</td>\n",
       "    </tr>\n",
       "    <tr>\n",
       "      <th>37082</th>\n",
       "      <td>2016-12-24 14:00:00</td>\n",
       "      <td>NaN</td>\n",
       "      <td>1014.0</td>\n",
       "      <td>290.15</td>\n",
       "      <td>haze</td>\n",
       "      <td>350.0</td>\n",
       "      <td>6.0</td>\n",
       "    </tr>\n",
       "    <tr>\n",
       "      <th>37083</th>\n",
       "      <td>2016-12-24 15:00:00</td>\n",
       "      <td>NaN</td>\n",
       "      <td>1015.0</td>\n",
       "      <td>289.66</td>\n",
       "      <td>haze</td>\n",
       "      <td>360.0</td>\n",
       "      <td>2.0</td>\n",
       "    </tr>\n",
       "    <tr>\n",
       "      <th>37154</th>\n",
       "      <td>2016-12-27 14:00:00</td>\n",
       "      <td>34.0</td>\n",
       "      <td>1018.0</td>\n",
       "      <td>291.15</td>\n",
       "      <td>broken clouds</td>\n",
       "      <td>NaN</td>\n",
       "      <td>7.0</td>\n",
       "    </tr>\n",
       "    <tr>\n",
       "      <th>44084</th>\n",
       "      <td>2017-10-12 08:00:00</td>\n",
       "      <td>53.0</td>\n",
       "      <td>1014.0</td>\n",
       "      <td>298.15</td>\n",
       "      <td>few clouds</td>\n",
       "      <td>NaN</td>\n",
       "      <td>8.0</td>\n",
       "    </tr>\n",
       "  </tbody>\n",
       "</table>\n",
       "<p>183 rows × 7 columns</p>\n",
       "</div>"
      ],
      "text/plain": [
       "                 datetime  Eilat_humidity  Eilat_pressure  Eilat_temperature  \\\n",
       "1414  2012-11-29 10:00:00             NaN          1020.0             293.15   \n",
       "1418  2012-11-29 14:00:00             NaN          1019.0             294.15   \n",
       "1537  2012-12-04 13:00:00            29.0          1012.0             298.80   \n",
       "1545  2012-12-04 21:00:00             NaN          1016.0             287.15   \n",
       "1546  2012-12-04 22:00:00             NaN          1016.0             287.15   \n",
       "...                   ...             ...             ...                ...   \n",
       "37081 2016-12-24 13:00:00             NaN          1014.0             288.64   \n",
       "37082 2016-12-24 14:00:00             NaN          1014.0             290.15   \n",
       "37083 2016-12-24 15:00:00             NaN          1015.0             289.66   \n",
       "37154 2016-12-27 14:00:00            34.0          1018.0             291.15   \n",
       "44084 2017-10-12 08:00:00            53.0          1014.0             298.15   \n",
       "\n",
       "      Eilat_weather_description  Eilat_wind_direction  Eilat_wind_speed  \n",
       "1414               sky is clear                   0.0               0.0  \n",
       "1418               sky is clear                   0.0               0.0  \n",
       "1537               sky is clear                   NaN               2.0  \n",
       "1545               sky is clear                   0.0               0.0  \n",
       "1546               sky is clear                   0.0               0.0  \n",
       "...                         ...                   ...               ...  \n",
       "37081                      haze                 320.0               8.0  \n",
       "37082                      haze                 350.0               6.0  \n",
       "37083                      haze                 360.0               2.0  \n",
       "37154             broken clouds                   NaN               7.0  \n",
       "44084                few clouds                   NaN               8.0  \n",
       "\n",
       "[183 rows x 7 columns]"
      ]
     },
     "execution_count": 10,
     "metadata": {},
     "output_type": "execute_result"
    }
   ],
   "source": [
    "Eilat[Eilat.isna().any(axis=1)] #Checking for rows with single NaN values"
   ]
  },
  {
   "cell_type": "code",
   "execution_count": 11,
   "id": "ae924f86",
   "metadata": {},
   "outputs": [
    {
     "data": {
      "text/plain": [
       "datetime                       0\n",
       "Eilat_humidity               178\n",
       "Eilat_pressure                 0\n",
       "Eilat_temperature              0\n",
       "Eilat_weather_description      0\n",
       "Eilat_wind_direction           5\n",
       "Eilat_wind_speed               0\n",
       "dtype: int64"
      ]
     },
     "execution_count": 11,
     "metadata": {},
     "output_type": "execute_result"
    }
   ],
   "source": [
    "Eilat[Eilat.isna().any(axis=1)].isna().sum() #Checking number of NaN values per column"
   ]
  },
  {
   "cell_type": "markdown",
   "id": "2fb88e57",
   "metadata": {},
   "source": [
    "### Check for Outliers"
   ]
  },
  {
   "cell_type": "code",
   "execution_count": 12,
   "id": "dde05405",
   "metadata": {},
   "outputs": [
    {
     "data": {
      "text/plain": [
       "<AxesSubplot:xlabel='Eilat_pressure'>"
      ]
     },
     "execution_count": 12,
     "metadata": {},
     "output_type": "execute_result"
    },
    {
     "data": {
      "image/png": "[encoded data removed]",
      "text/plain": [
       "<Figure size 432x288 with 1 Axes>"
      ]
     },
     "metadata": {
      "needs_background": "light"
     },
     "output_type": "display_data"
    }
   ],
   "source": [
    "sns.boxplot(x=Eilat['Eilat_pressure'])"
   ]
  },
  {
   "cell_type": "code",
   "execution_count": 13,
   "id": "286e0724",
   "metadata": {},
   "outputs": [
    {
     "data": {
      "text/plain": [
       "<AxesSubplot:xlabel='Eilat_temperature'>"
      ]
     },
     "execution_count": 13,
     "metadata": {},
     "output_type": "execute_result"
    },
    {
     "data": {
      "image/png": "[encoded data removed]",
      "text/plain": [
       "<Figure size 432x288 with 1 Axes>"
      ]
     },
     "metadata": {
      "needs_background": "light"
     },
     "output_type": "display_data"
    }
   ],
   "source": [
    "sns.boxplot(x=Eilat['Eilat_temperature'])"
   ]
  },
  {
   "cell_type": "code",
   "execution_count": 14,
   "id": "7ceaa0e1",
   "metadata": {},
   "outputs": [
    {
     "data": {
      "text/plain": [
       "<AxesSubplot:xlabel='Eilat_humidity'>"
      ]
     },
     "execution_count": 14,
     "metadata": {},
     "output_type": "execute_result"
    },
    {
     "data": {
      "image/png": "[encoded data removed]",
      "text/plain": [
       "<Figure size 432x288 with 1 Axes>"
      ]
     },
     "metadata": {
      "needs_background": "light"
     },
     "output_type": "display_data"
    }
   ],
   "source": [
    "sns.boxplot(x=Eilat['Eilat_humidity'])"
   ]
  },
  {
   "cell_type": "code",
   "execution_count": 15,
   "id": "7604e907",
   "metadata": {},
   "outputs": [
    {
     "data": {
      "text/plain": [
       "<AxesSubplot:xlabel='Eilat_wind_direction'>"
      ]
     },
     "execution_count": 15,
     "metadata": {},
     "output_type": "execute_result"
    },
    {
     "data": {
      "image/png": "[encoded data removed]",
      "text/plain": [
       "<Figure size 432x288 with 1 Axes>"
      ]
     },
     "metadata": {
      "needs_background": "light"
     },
     "output_type": "display_data"
    }
   ],
   "source": [
    "sns.boxplot(x=Eilat['Eilat_wind_direction'])"
   ]
  },
  {
   "cell_type": "code",
   "execution_count": 16,
   "id": "ea53f45d",
   "metadata": {},
   "outputs": [
    {
     "data": {
      "text/plain": [
       "<AxesSubplot:xlabel='Eilat_wind_speed'>"
      ]
     },
     "execution_count": 16,
     "metadata": {},
     "output_type": "execute_result"
    },
    {
     "data": {
      "image/png": "[encoded data removed]",
      "text/plain": [
       "<Figure size 432x288 with 1 Axes>"
      ]
     },
     "metadata": {
      "needs_background": "light"
     },
     "output_type": "display_data"
    }
   ],
   "source": [
    "sns.boxplot(x=Eilat['Eilat_wind_speed'])"
   ]
  },
  {
   "cell_type": "code",
   "execution_count": 17,
   "id": "c8122005",
   "metadata": {},
   "outputs": [
    {
     "data": {
      "text/html": [
       "<div>\n",
       "<style scoped>\n",
       "    .dataframe tbody tr th:only-of-type {\n",
       "        vertical-align: middle;\n",
       "    }\n",
       "\n",
       "    .dataframe tbody tr th {\n",
       "        vertical-align: top;\n",
       "    }\n",
       "\n",
       "    .dataframe thead th {\n",
       "        text-align: right;\n",
       "    }\n",
       "</style>\n",
       "<table border=\"1\" class=\"dataframe\">\n",
       "  <thead>\n",
       "    <tr style=\"text-align: right;\">\n",
       "      <th></th>\n",
       "      <th>Eilat_humidity</th>\n",
       "      <th>Eilat_pressure</th>\n",
       "      <th>Eilat_temperature</th>\n",
       "      <th>Eilat_wind_direction</th>\n",
       "      <th>Eilat_wind_speed</th>\n",
       "    </tr>\n",
       "  </thead>\n",
       "  <tbody>\n",
       "    <tr>\n",
       "      <th>count</th>\n",
       "      <td>44283.000000</td>\n",
       "      <td>44461.000000</td>\n",
       "      <td>44461.000000</td>\n",
       "      <td>44456.000000</td>\n",
       "      <td>44461.000000</td>\n",
       "    </tr>\n",
       "    <tr>\n",
       "      <th>mean</th>\n",
       "      <td>53.155184</td>\n",
       "      <td>1002.039248</td>\n",
       "      <td>296.497276</td>\n",
       "      <td>204.244691</td>\n",
       "      <td>3.452576</td>\n",
       "    </tr>\n",
       "    <tr>\n",
       "      <th>std</th>\n",
       "      <td>27.305008</td>\n",
       "      <td>22.610353</td>\n",
       "      <td>8.852984</td>\n",
       "      <td>144.891439</td>\n",
       "      <td>2.323312</td>\n",
       "    </tr>\n",
       "    <tr>\n",
       "      <th>min</th>\n",
       "      <td>5.000000</td>\n",
       "      <td>936.000000</td>\n",
       "      <td>271.150000</td>\n",
       "      <td>0.000000</td>\n",
       "      <td>0.000000</td>\n",
       "    </tr>\n",
       "    <tr>\n",
       "      <th>25%</th>\n",
       "      <td>31.000000</td>\n",
       "      <td>1002.000000</td>\n",
       "      <td>289.734000</td>\n",
       "      <td>40.000000</td>\n",
       "      <td>1.000000</td>\n",
       "    </tr>\n",
       "    <tr>\n",
       "      <th>50%</th>\n",
       "      <td>48.000000</td>\n",
       "      <td>1010.000000</td>\n",
       "      <td>296.150000</td>\n",
       "      <td>264.000000</td>\n",
       "      <td>3.000000</td>\n",
       "    </tr>\n",
       "    <tr>\n",
       "      <th>75%</th>\n",
       "      <td>75.000000</td>\n",
       "      <td>1016.000000</td>\n",
       "      <td>303.150000</td>\n",
       "      <td>345.000000</td>\n",
       "      <td>5.000000</td>\n",
       "    </tr>\n",
       "    <tr>\n",
       "      <th>max</th>\n",
       "      <td>100.000000</td>\n",
       "      <td>1040.000000</td>\n",
       "      <td>320.150000</td>\n",
       "      <td>360.000000</td>\n",
       "      <td>44.000000</td>\n",
       "    </tr>\n",
       "  </tbody>\n",
       "</table>\n",
       "</div>"
      ],
      "text/plain": [
       "       Eilat_humidity  Eilat_pressure  Eilat_temperature  \\\n",
       "count    44283.000000    44461.000000       44461.000000   \n",
       "mean        53.155184     1002.039248         296.497276   \n",
       "std         27.305008       22.610353           8.852984   \n",
       "min          5.000000      936.000000         271.150000   \n",
       "25%         31.000000     1002.000000         289.734000   \n",
       "50%         48.000000     1010.000000         296.150000   \n",
       "75%         75.000000     1016.000000         303.150000   \n",
       "max        100.000000     1040.000000         320.150000   \n",
       "\n",
       "       Eilat_wind_direction  Eilat_wind_speed  \n",
       "count          44456.000000      44461.000000  \n",
       "mean             204.244691          3.452576  \n",
       "std              144.891439          2.323312  \n",
       "min                0.000000          0.000000  \n",
       "25%               40.000000          1.000000  \n",
       "50%              264.000000          3.000000  \n",
       "75%              345.000000          5.000000  \n",
       "max              360.000000         44.000000  "
      ]
     },
     "execution_count": 17,
     "metadata": {},
     "output_type": "execute_result"
    }
   ],
   "source": [
    "Eilat.describe()"
   ]
  },
  {
   "cell_type": "code",
   "execution_count": 18,
   "id": "67a0a173",
   "metadata": {},
   "outputs": [
    {
     "name": "stderr",
     "output_type": "stream",
     "text": [
      "C:\\Users\\MYKELD~1\\AppData\\Local\\Temp/ipykernel_952/3308947320.py:1: FutureWarning: DataFrame.mean and DataFrame.median with numeric_only=None will include datetime64 and datetime64tz columns in a future version.\n",
      "  Eilat.fillna(Eilat.mean(), inplace=True) #Replace NaN with mean\n",
      "C:\\Users\\MYKELD~1\\AppData\\Local\\Temp/ipykernel_952/3308947320.py:1: FutureWarning: Dropping of nuisance columns in DataFrame reductions (with 'numeric_only=None') is deprecated; in a future version this will raise TypeError.  Select only valid columns before calling the reduction.\n",
      "  Eilat.fillna(Eilat.mean(), inplace=True) #Replace NaN with mean\n"
     ]
    }
   ],
   "source": [
    "Eilat.fillna(Eilat.mean(), inplace=True) #Replace NaN with mean"
   ]
  },
  {
   "cell_type": "code",
   "execution_count": 19,
   "id": "553d13e2",
   "metadata": {},
   "outputs": [
    {
     "data": {
      "text/plain": [
       "datetime                     0\n",
       "Eilat_humidity               0\n",
       "Eilat_pressure               0\n",
       "Eilat_temperature            0\n",
       "Eilat_weather_description    0\n",
       "Eilat_wind_direction         0\n",
       "Eilat_wind_speed             0\n",
       "dtype: int64"
      ]
     },
     "execution_count": 19,
     "metadata": {},
     "output_type": "execute_result"
    }
   ],
   "source": [
    "Eilat[Eilat.isna().any(axis=1)].count() #Confirm replacement of NaN values"
   ]
  },
  {
   "cell_type": "markdown",
   "id": "6187c6ad",
   "metadata": {},
   "source": [
    "### Check for insights"
   ]
  },
  {
   "cell_type": "code",
   "execution_count": 20,
   "id": "2d02cf84",
   "metadata": {},
   "outputs": [
    {
     "data": {
      "text/plain": [
       "<AxesSubplot:>"
      ]
     },
     "execution_count": 20,
     "metadata": {},
     "output_type": "execute_result"
    },
    {
     "data": {
      "image/png": "[encoded data removed]",
      "text/plain": [
       "<Figure size 432x288 with 1 Axes>"
      ]
     },
     "metadata": {
      "needs_background": "light"
     },
     "output_type": "display_data"
    }
   ],
   "source": [
    "Eilat['Eilat_weather_description'].value_counts().plot(kind='bar') #Check distribution of target variable"
   ]
  },
  {
   "cell_type": "code",
   "execution_count": 21,
   "id": "dbe382ce",
   "metadata": {},
   "outputs": [
    {
     "data": {
      "text/html": [
       "<div>\n",
       "<style scoped>\n",
       "    .dataframe tbody tr th:only-of-type {\n",
       "        vertical-align: middle;\n",
       "    }\n",
       "\n",
       "    .dataframe tbody tr th {\n",
       "        vertical-align: top;\n",
       "    }\n",
       "\n",
       "    .dataframe thead th {\n",
       "        text-align: right;\n",
       "    }\n",
       "</style>\n",
       "<table border=\"1\" class=\"dataframe\">\n",
       "  <thead>\n",
       "    <tr style=\"text-align: right;\">\n",
       "      <th></th>\n",
       "      <th>Eilat_humidity</th>\n",
       "      <th>Eilat_pressure</th>\n",
       "      <th>Eilat_temperature</th>\n",
       "      <th>Eilat_wind_direction</th>\n",
       "      <th>Eilat_wind_speed</th>\n",
       "    </tr>\n",
       "  </thead>\n",
       "  <tbody>\n",
       "    <tr>\n",
       "      <th>count</th>\n",
       "      <td>44461.000000</td>\n",
       "      <td>44461.000000</td>\n",
       "      <td>44461.000000</td>\n",
       "      <td>44461.000000</td>\n",
       "      <td>44461.000000</td>\n",
       "    </tr>\n",
       "    <tr>\n",
       "      <th>mean</th>\n",
       "      <td>53.155184</td>\n",
       "      <td>1002.039248</td>\n",
       "      <td>296.497276</td>\n",
       "      <td>204.244691</td>\n",
       "      <td>3.452576</td>\n",
       "    </tr>\n",
       "    <tr>\n",
       "      <th>std</th>\n",
       "      <td>27.250294</td>\n",
       "      <td>22.610353</td>\n",
       "      <td>8.852984</td>\n",
       "      <td>144.883292</td>\n",
       "      <td>2.323312</td>\n",
       "    </tr>\n",
       "    <tr>\n",
       "      <th>min</th>\n",
       "      <td>5.000000</td>\n",
       "      <td>936.000000</td>\n",
       "      <td>271.150000</td>\n",
       "      <td>0.000000</td>\n",
       "      <td>0.000000</td>\n",
       "    </tr>\n",
       "    <tr>\n",
       "      <th>25%</th>\n",
       "      <td>31.000000</td>\n",
       "      <td>1002.000000</td>\n",
       "      <td>289.734000</td>\n",
       "      <td>40.000000</td>\n",
       "      <td>1.000000</td>\n",
       "    </tr>\n",
       "    <tr>\n",
       "      <th>50%</th>\n",
       "      <td>48.000000</td>\n",
       "      <td>1010.000000</td>\n",
       "      <td>296.150000</td>\n",
       "      <td>264.000000</td>\n",
       "      <td>3.000000</td>\n",
       "    </tr>\n",
       "    <tr>\n",
       "      <th>75%</th>\n",
       "      <td>75.000000</td>\n",
       "      <td>1016.000000</td>\n",
       "      <td>303.150000</td>\n",
       "      <td>345.000000</td>\n",
       "      <td>5.000000</td>\n",
       "    </tr>\n",
       "    <tr>\n",
       "      <th>max</th>\n",
       "      <td>100.000000</td>\n",
       "      <td>1040.000000</td>\n",
       "      <td>320.150000</td>\n",
       "      <td>360.000000</td>\n",
       "      <td>44.000000</td>\n",
       "    </tr>\n",
       "  </tbody>\n",
       "</table>\n",
       "</div>"
      ],
      "text/plain": [
       "       Eilat_humidity  Eilat_pressure  Eilat_temperature  \\\n",
       "count    44461.000000    44461.000000       44461.000000   \n",
       "mean        53.155184     1002.039248         296.497276   \n",
       "std         27.250294       22.610353           8.852984   \n",
       "min          5.000000      936.000000         271.150000   \n",
       "25%         31.000000     1002.000000         289.734000   \n",
       "50%         48.000000     1010.000000         296.150000   \n",
       "75%         75.000000     1016.000000         303.150000   \n",
       "max        100.000000     1040.000000         320.150000   \n",
       "\n",
       "       Eilat_wind_direction  Eilat_wind_speed  \n",
       "count          44461.000000      44461.000000  \n",
       "mean             204.244691          3.452576  \n",
       "std              144.883292          2.323312  \n",
       "min                0.000000          0.000000  \n",
       "25%               40.000000          1.000000  \n",
       "50%              264.000000          3.000000  \n",
       "75%              345.000000          5.000000  \n",
       "max              360.000000         44.000000  "
      ]
     },
     "execution_count": 21,
     "metadata": {},
     "output_type": "execute_result"
    }
   ],
   "source": [
    "Eilat.describe()"
   ]
  },
  {
   "cell_type": "code",
   "execution_count": 22,
   "id": "199fc53e",
   "metadata": {},
   "outputs": [
    {
     "data": {
      "text/plain": [
       "<AxesSubplot:>"
      ]
     },
     "execution_count": 22,
     "metadata": {},
     "output_type": "execute_result"
    },
    {
     "data": {
      "image/png": "[encoded data removed]",
      "text/plain": [
       "<Figure size 432x288 with 2 Axes>"
      ]
     },
     "metadata": {
      "needs_background": "light"
     },
     "output_type": "display_data"
    }
   ],
   "source": [
    "sns.heatmap(Eilat.corr(),cbar=True,annot=True,cmap='Blues') #checking for correlation"
   ]
  },
  {
   "cell_type": "code",
   "execution_count": null,
   "id": "1b29dfb4",
   "metadata": {},
   "outputs": [],
   "source": []
  }
 ],
 "metadata": {
  "kernelspec": {
   "display_name": "Python 3 (ipykernel)",
   "language": "python",
   "name": "python3"
  },
  "language_info": {
   "codemirror_mode": {
    "name": "ipython",
    "version": 3
   },
   "file_extension": ".py",
   "mimetype": "text/x-python",
   "name": "python",
   "nbconvert_exporter": "python",
   "pygments_lexer": "ipython3",
   "version": "3.9.7"
  }
 },
 "nbformat": 4,
 "nbformat_minor": 5
}
