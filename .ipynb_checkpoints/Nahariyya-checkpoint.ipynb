{
 "cells": [
  {
   "cell_type": "markdown",
   "id": "c8a033b5",
   "metadata": {},
   "source": [
    "### Import libraries"
   ]
  },
  {
   "cell_type": "code",
   "execution_count": null,
   "id": "ba03c1dd",
   "metadata": {},
   "outputs": [],
   "source": [
    "import pandas as pd\n",
    "import numpy as np\n",
    "import seaborn as sns\n",
    "from matplotlib import pyplot as plt\n",
    "import os\n",
    "from datetime import datetime"
   ]
  },
  {
   "cell_type": "markdown",
   "id": "2acc2d1f",
   "metadata": {},
   "source": [
    "### Read city file"
   ]
  },
  {
   "cell_type": "code",
   "execution_count": null,
   "id": "76b02b4a",
   "metadata": {},
   "outputs": [],
   "source": [
    "Nahariyya = pd.read_csv('./cities/Nahariyya.csv')"
   ]
  },
  {
   "cell_type": "markdown",
   "id": "b06ae7c9",
   "metadata": {},
   "source": [
    "### Check rows, columns and data types"
   ]
  },
  {
   "cell_type": "code",
   "execution_count": null,
   "id": "2ab2f8f2",
   "metadata": {},
   "outputs": [],
   "source": [
    "Nahariyya.head()"
   ]
  },
  {
   "cell_type": "code",
   "execution_count": null,
   "id": "6f9309a7",
   "metadata": {},
   "outputs": [],
   "source": [
    "Nahariyya.dtypes"
   ]
  },
  {
   "cell_type": "markdown",
   "id": "fc184e41",
   "metadata": {},
   "source": [
    "### Data Cleaning\n",
    "#### 1. Remove unwanted columns and formating of columns"
   ]
  },
  {
   "cell_type": "code",
   "execution_count": null,
   "id": "57d08919",
   "metadata": {},
   "outputs": [],
   "source": [
    "Nahariyya.drop('Unnamed: 0', axis=1, inplace=True) #Remove 'Unnamed: 0' column\n",
    "Nahariyya['datetime']=pd.to_datetime(Nahariyya['datetime']) #change format of 'datetime' from string to date\n",
    "Nahariyya.head()"
   ]
  },
  {
   "cell_type": "markdown",
   "id": "d8b07680",
   "metadata": {},
   "source": [
    "#### 2. Remove NaN values"
   ]
  },
  {
   "cell_type": "code",
   "execution_count": null,
   "id": "a94728ce",
   "metadata": {},
   "outputs": [],
   "source": [
    "Nahariyya.isna().sum() #Checking for total NaN values for each column"
   ]
  },
  {
   "cell_type": "code",
   "execution_count": null,
   "id": "3c3d58e1",
   "metadata": {},
   "outputs": [],
   "source": [
    "Nahariyya_nan = Nahariyya[Nahariyya.isna().any(axis=1)]\n",
    "Nahariyya_nan.tail(795) #checking for multiple NaN values per row"
   ]
  },
  {
   "cell_type": "code",
   "execution_count": null,
   "id": "eef30c03",
   "metadata": {},
   "outputs": [],
   "source": [
    "Nahariyya = Nahariyya[Nahariyya.isnull().sum(axis=1) <= 1] #Removing rows with multiple NaN values"
   ]
  },
  {
   "cell_type": "code",
   "execution_count": null,
   "id": "945bc142",
   "metadata": {},
   "outputs": [],
   "source": [
    "Nahariyya.shape"
   ]
  },
  {
   "cell_type": "code",
   "execution_count": null,
   "id": "230dae04",
   "metadata": {},
   "outputs": [],
   "source": [
    "Nahariyya[Nahariyya.isna().any(axis=1)] #Checking for rows with single NaN values"
   ]
  },
  {
   "cell_type": "code",
   "execution_count": null,
   "id": "ae924f86",
   "metadata": {},
   "outputs": [],
   "source": [
    "Nahariyya[Nahariyya.isna().any(axis=1)].isna().sum() #Checking number of NaN values per column"
   ]
  },
  {
   "cell_type": "markdown",
   "id": "2fb88e57",
   "metadata": {},
   "source": [
    "### Check for Outliers"
   ]
  },
  {
   "cell_type": "code",
   "execution_count": null,
   "id": "dde05405",
   "metadata": {},
   "outputs": [],
   "source": [
    "sns.boxplot(x=Nahariyya['Nahariyya_pressure'])"
   ]
  },
  {
   "cell_type": "code",
   "execution_count": null,
   "id": "286e0724",
   "metadata": {},
   "outputs": [],
   "source": [
    "sns.boxplot(x=Nahariyya['Nahariyya_temperature'])"
   ]
  },
  {
   "cell_type": "code",
   "execution_count": null,
   "id": "7ceaa0e1",
   "metadata": {},
   "outputs": [],
   "source": [
    "sns.boxplot(x=Nahariyya['Nahariyya_humidity'])"
   ]
  },
  {
   "cell_type": "code",
   "execution_count": null,
   "id": "7604e907",
   "metadata": {},
   "outputs": [],
   "source": [
    "sns.boxplot(x=Nahariyya['Nahariyya_wind_direction'])"
   ]
  },
  {
   "cell_type": "code",
   "execution_count": null,
   "id": "ea53f45d",
   "metadata": {},
   "outputs": [],
   "source": [
    "sns.boxplot(x=Nahariyya['Nahariyya_wind_speed'])"
   ]
  },
  {
   "cell_type": "code",
   "execution_count": null,
   "id": "c8122005",
   "metadata": {},
   "outputs": [],
   "source": [
    "Nahariyya.describe()"
   ]
  },
  {
   "cell_type": "code",
   "execution_count": null,
   "id": "67a0a173",
   "metadata": {},
   "outputs": [],
   "source": [
    "Haifa.dropna(inplace=True) #Remove rows with NaN values"
   ]
  },
  {
   "cell_type": "code",
   "execution_count": null,
   "id": "553d13e2",
   "metadata": {},
   "outputs": [],
   "source": [
    "Nahariyya[Nahariyya.isna().any(axis=1)].count() #Confirm replacement of NaN values"
   ]
  },
  {
   "cell_type": "markdown",
   "id": "6187c6ad",
   "metadata": {},
   "source": [
    "### Check for insights"
   ]
  },
  {
   "cell_type": "code",
   "execution_count": null,
   "id": "2d02cf84",
   "metadata": {},
   "outputs": [],
   "source": [
    "Nahariyya['Nahariyya_weather_description'].value_counts().plot(kind='bar') #Check distribution of target variable"
   ]
  },
  {
   "cell_type": "code",
   "execution_count": null,
   "id": "dbe382ce",
   "metadata": {},
   "outputs": [],
   "source": [
    "Nahariyya.describe()"
   ]
  },
  {
   "cell_type": "code",
   "execution_count": null,
   "id": "199fc53e",
   "metadata": {},
   "outputs": [],
   "source": [
    "sns.heatmap(Nahariyya.corr(),cbar=True,annot=True,cmap='Blues') #checking for correlation"
   ]
  },
  {
   "cell_type": "code",
   "execution_count": null,
   "id": "1b29dfb4",
   "metadata": {},
   "outputs": [],
   "source": []
  }
 ],
 "metadata": {
  "kernelspec": {
   "display_name": "Python 3 (ipykernel)",
   "language": "python",
   "name": "python3"
  },
  "language_info": {
   "codemirror_mode": {
    "name": "ipython",
    "version": 3
   },
   "file_extension": ".py",
   "mimetype": "text/x-python",
   "name": "python",
   "nbconvert_exporter": "python",
   "pygments_lexer": "ipython3",
   "version": "3.9.7"
  }
 },
 "nbformat": 4,
 "nbformat_minor": 5
}
