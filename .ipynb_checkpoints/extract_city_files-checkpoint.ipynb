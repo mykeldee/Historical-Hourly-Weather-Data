{
 "cells": [
  {
   "cell_type": "code",
   "execution_count": 1,
   "id": "7b366b42",
   "metadata": {},
   "outputs": [],
   "source": [
    "import pandas as pd\n",
    "import numpy as np\n",
    "import seaborn as sns\n",
    "from matplotlib import pyplot as plt\n",
    "import os"
   ]
  },
  {
   "cell_type": "code",
   "execution_count": 32,
   "id": "a89a48aa",
   "metadata": {},
   "outputs": [
    {
     "ename": "SyntaxError",
     "evalue": "invalid syntax (Temp/ipykernel_25940/1934150220.py, line 2)",
     "output_type": "error",
     "traceback": [
      "\u001b[1;36m  File \u001b[1;32m\"C:\\Users\\MYKELD~1\\AppData\\Local\\Temp/ipykernel_25940/1934150220.py\"\u001b[1;36m, line \u001b[1;32m2\u001b[0m\n\u001b[1;33m    return file_name =os.listdir(f'./{directory}')\u001b[0m\n\u001b[1;37m    ^\u001b[0m\n\u001b[1;31mSyntaxError\u001b[0m\u001b[1;31m:\u001b[0m invalid syntax\n"
     ]
    }
   ],
   "source": [
    "def get_files(file_name, directory:\n",
    "              file_name = os.listdir(f'./{directory}')\n",
    "              return file_name"
   ]
  },
  {
   "cell_type": "code",
   "execution_count": 20,
   "id": "f9bd6ede",
   "metadata": {},
   "outputs": [],
   "source": [
    "#select all csv files in the archive folder\n",
    "\n",
    "files = os.listdir('./archive/')"
   ]
  },
  {
   "cell_type": "code",
   "execution_count": 21,
   "id": "a1d2d297",
   "metadata": {},
   "outputs": [],
   "source": [
    "#get file names by removing .csv from name and assign to a list\n",
    "\n",
    "file_names = [x[:-4] for x in files]"
   ]
  },
  {
   "cell_type": "code",
   "execution_count": 24,
   "id": "a3fa6c06",
   "metadata": {},
   "outputs": [],
   "source": [
    "def merge_city(city):\n",
    "    merged=pd.read_csv('./archive/humidity.csv', usecols=['datetime'])\n",
    "    count=0\n",
    "   \n",
    "    for file in files:\n",
    "        vars()[file_names[count]] = pd.read_csv(f'./archive/{file}')\n",
    "        vars()[file_names[count]].columns+=[file_names[count][:4]]\n",
    "        merged = pd.concat([merged, vars()[file_names[count]][f\"{city}{file_names[count][:4]}\"]], axis = 1)\n",
    "        count += 1\n",
    "    merged.to_csv(f'./cities/{city}.csv')"
   ]
  },
  {
   "cell_type": "code",
   "execution_count": 27,
   "id": "82694b2a",
   "metadata": {},
   "outputs": [],
   "source": [
    "merge_city('Nahariyya')"
   ]
  },
  {
   "cell_type": "code",
   "execution_count": 29,
   "id": "4b77748a",
   "metadata": {},
   "outputs": [],
   "source": [
    "city_files = os.listdir('./cities')"
   ]
  },
  {
   "cell_type": "code",
   "execution_count": null,
   "id": "c02a0f64",
   "metadata": {},
   "outputs": [],
   "source": [
    "for file in files:\n",
    "    vars()[file_names[count]] = pd.read_csv(f'./archive/{file}')"
   ]
  }
 ],
 "metadata": {
  "kernelspec": {
   "display_name": "Python 3 (ipykernel)",
   "language": "python",
   "name": "python3"
  },
  "language_info": {
   "codemirror_mode": {
    "name": "ipython",
    "version": 3
   },
   "file_extension": ".py",
   "mimetype": "text/x-python",
   "name": "python",
   "nbconvert_exporter": "python",
   "pygments_lexer": "ipython3",
   "version": "3.9.7"
  }
 },
 "nbformat": 4,
 "nbformat_minor": 5
}
