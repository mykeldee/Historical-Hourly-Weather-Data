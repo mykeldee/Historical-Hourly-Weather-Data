{
 "cells": [
  {
   "cell_type": "markdown",
   "id": "c8a033b5",
   "metadata": {},
   "source": [
    "### Import libraries"
   ]
  },
  {
   "cell_type": "code",
   "execution_count": 1,
   "id": "ba03c1dd",
   "metadata": {},
   "outputs": [],
   "source": [
    "import pandas as pd\n",
    "import numpy as np\n",
    "import seaborn as sns\n",
    "from matplotlib import pyplot as plt\n",
    "import os\n",
    "from datetime import datetime"
   ]
  },
  {
   "cell_type": "markdown",
   "id": "2acc2d1f",
   "metadata": {},
   "source": [
    "### Read city file"
   ]
  },
  {
   "cell_type": "code",
   "execution_count": 2,
   "id": "76b02b4a",
   "metadata": {},
   "outputs": [],
   "source": [
    "Haifa = pd.read_csv('./cities/Haifa.csv')"
   ]
  },
  {
   "cell_type": "markdown",
   "id": "b06ae7c9",
   "metadata": {},
   "source": [
    "### Check rows, columns and data types"
   ]
  },
  {
   "cell_type": "code",
   "execution_count": 3,
   "id": "2ab2f8f2",
   "metadata": {},
   "outputs": [
    {
     "data": {
      "text/html": [
       "<div>\n",
       "<style scoped>\n",
       "    .dataframe tbody tr th:only-of-type {\n",
       "        vertical-align: middle;\n",
       "    }\n",
       "\n",
       "    .dataframe tbody tr th {\n",
       "        vertical-align: top;\n",
       "    }\n",
       "\n",
       "    .dataframe thead th {\n",
       "        text-align: right;\n",
       "    }\n",
       "</style>\n",
       "<table border=\"1\" class=\"dataframe\">\n",
       "  <thead>\n",
       "    <tr style=\"text-align: right;\">\n",
       "      <th></th>\n",
       "      <th>Unnamed: 0</th>\n",
       "      <th>datetime</th>\n",
       "      <th>Haifa_humidity</th>\n",
       "      <th>Haifa_pressure</th>\n",
       "      <th>Haifa_temperature</th>\n",
       "      <th>Haifa_weather_description</th>\n",
       "      <th>Haifa_wind_direction</th>\n",
       "      <th>Haifa_wind_speed</th>\n",
       "    </tr>\n",
       "  </thead>\n",
       "  <tbody>\n",
       "    <tr>\n",
       "      <th>0</th>\n",
       "      <td>0</td>\n",
       "      <td>2012-10-01 12:00:00</td>\n",
       "      <td>NaN</td>\n",
       "      <td>NaN</td>\n",
       "      <td>NaN</td>\n",
       "      <td>NaN</td>\n",
       "      <td>NaN</td>\n",
       "      <td>NaN</td>\n",
       "    </tr>\n",
       "    <tr>\n",
       "      <th>1</th>\n",
       "      <td>1</td>\n",
       "      <td>2012-10-01 13:00:00</td>\n",
       "      <td>51.0</td>\n",
       "      <td>1013.0</td>\n",
       "      <td>304.4</td>\n",
       "      <td>sky is clear</td>\n",
       "      <td>336.0</td>\n",
       "      <td>2.0</td>\n",
       "    </tr>\n",
       "    <tr>\n",
       "      <th>2</th>\n",
       "      <td>2</td>\n",
       "      <td>2012-10-01 14:00:00</td>\n",
       "      <td>51.0</td>\n",
       "      <td>1013.0</td>\n",
       "      <td>304.4</td>\n",
       "      <td>overcast clouds</td>\n",
       "      <td>336.0</td>\n",
       "      <td>2.0</td>\n",
       "    </tr>\n",
       "    <tr>\n",
       "      <th>3</th>\n",
       "      <td>3</td>\n",
       "      <td>2012-10-01 15:00:00</td>\n",
       "      <td>51.0</td>\n",
       "      <td>1013.0</td>\n",
       "      <td>304.4</td>\n",
       "      <td>overcast clouds</td>\n",
       "      <td>336.0</td>\n",
       "      <td>2.0</td>\n",
       "    </tr>\n",
       "    <tr>\n",
       "      <th>4</th>\n",
       "      <td>4</td>\n",
       "      <td>2012-10-01 16:00:00</td>\n",
       "      <td>51.0</td>\n",
       "      <td>1013.0</td>\n",
       "      <td>304.4</td>\n",
       "      <td>overcast clouds</td>\n",
       "      <td>336.0</td>\n",
       "      <td>2.0</td>\n",
       "    </tr>\n",
       "  </tbody>\n",
       "</table>\n",
       "</div>"
      ],
      "text/plain": [
       "   Unnamed: 0             datetime  Haifa_humidity  Haifa_pressure  \\\n",
       "0           0  2012-10-01 12:00:00             NaN             NaN   \n",
       "1           1  2012-10-01 13:00:00            51.0          1013.0   \n",
       "2           2  2012-10-01 14:00:00            51.0          1013.0   \n",
       "3           3  2012-10-01 15:00:00            51.0          1013.0   \n",
       "4           4  2012-10-01 16:00:00            51.0          1013.0   \n",
       "\n",
       "   Haifa_temperature Haifa_weather_description  Haifa_wind_direction  \\\n",
       "0                NaN                       NaN                   NaN   \n",
       "1              304.4              sky is clear                 336.0   \n",
       "2              304.4           overcast clouds                 336.0   \n",
       "3              304.4           overcast clouds                 336.0   \n",
       "4              304.4           overcast clouds                 336.0   \n",
       "\n",
       "   Haifa_wind_speed  \n",
       "0               NaN  \n",
       "1               2.0  \n",
       "2               2.0  \n",
       "3               2.0  \n",
       "4               2.0  "
      ]
     },
     "execution_count": 3,
     "metadata": {},
     "output_type": "execute_result"
    }
   ],
   "source": [
    "Haifa.head()"
   ]
  },
  {
   "cell_type": "code",
   "execution_count": 4,
   "id": "6f9309a7",
   "metadata": {},
   "outputs": [
    {
     "data": {
      "text/plain": [
       "Unnamed: 0                     int64\n",
       "datetime                      object\n",
       "Haifa_humidity               float64\n",
       "Haifa_pressure               float64\n",
       "Haifa_temperature            float64\n",
       "Haifa_weather_description     object\n",
       "Haifa_wind_direction         float64\n",
       "Haifa_wind_speed             float64\n",
       "dtype: object"
      ]
     },
     "execution_count": 4,
     "metadata": {},
     "output_type": "execute_result"
    }
   ],
   "source": [
    "Haifa.dtypes"
   ]
  },
  {
   "cell_type": "markdown",
   "id": "fc184e41",
   "metadata": {},
   "source": [
    "### Data Cleaning\n",
    "#### 1. Remove unwanted columns and formating of columns"
   ]
  },
  {
   "cell_type": "code",
   "execution_count": 5,
   "id": "57d08919",
   "metadata": {},
   "outputs": [
    {
     "data": {
      "text/html": [
       "<div>\n",
       "<style scoped>\n",
       "    .dataframe tbody tr th:only-of-type {\n",
       "        vertical-align: middle;\n",
       "    }\n",
       "\n",
       "    .dataframe tbody tr th {\n",
       "        vertical-align: top;\n",
       "    }\n",
       "\n",
       "    .dataframe thead th {\n",
       "        text-align: right;\n",
       "    }\n",
       "</style>\n",
       "<table border=\"1\" class=\"dataframe\">\n",
       "  <thead>\n",
       "    <tr style=\"text-align: right;\">\n",
       "      <th></th>\n",
       "      <th>datetime</th>\n",
       "      <th>Haifa_humidity</th>\n",
       "      <th>Haifa_pressure</th>\n",
       "      <th>Haifa_temperature</th>\n",
       "      <th>Haifa_weather_description</th>\n",
       "      <th>Haifa_wind_direction</th>\n",
       "      <th>Haifa_wind_speed</th>\n",
       "    </tr>\n",
       "  </thead>\n",
       "  <tbody>\n",
       "    <tr>\n",
       "      <th>0</th>\n",
       "      <td>2012-10-01 12:00:00</td>\n",
       "      <td>NaN</td>\n",
       "      <td>NaN</td>\n",
       "      <td>NaN</td>\n",
       "      <td>NaN</td>\n",
       "      <td>NaN</td>\n",
       "      <td>NaN</td>\n",
       "    </tr>\n",
       "    <tr>\n",
       "      <th>1</th>\n",
       "      <td>2012-10-01 13:00:00</td>\n",
       "      <td>51.0</td>\n",
       "      <td>1013.0</td>\n",
       "      <td>304.4</td>\n",
       "      <td>sky is clear</td>\n",
       "      <td>336.0</td>\n",
       "      <td>2.0</td>\n",
       "    </tr>\n",
       "    <tr>\n",
       "      <th>2</th>\n",
       "      <td>2012-10-01 14:00:00</td>\n",
       "      <td>51.0</td>\n",
       "      <td>1013.0</td>\n",
       "      <td>304.4</td>\n",
       "      <td>overcast clouds</td>\n",
       "      <td>336.0</td>\n",
       "      <td>2.0</td>\n",
       "    </tr>\n",
       "    <tr>\n",
       "      <th>3</th>\n",
       "      <td>2012-10-01 15:00:00</td>\n",
       "      <td>51.0</td>\n",
       "      <td>1013.0</td>\n",
       "      <td>304.4</td>\n",
       "      <td>overcast clouds</td>\n",
       "      <td>336.0</td>\n",
       "      <td>2.0</td>\n",
       "    </tr>\n",
       "    <tr>\n",
       "      <th>4</th>\n",
       "      <td>2012-10-01 16:00:00</td>\n",
       "      <td>51.0</td>\n",
       "      <td>1013.0</td>\n",
       "      <td>304.4</td>\n",
       "      <td>overcast clouds</td>\n",
       "      <td>336.0</td>\n",
       "      <td>2.0</td>\n",
       "    </tr>\n",
       "  </tbody>\n",
       "</table>\n",
       "</div>"
      ],
      "text/plain": [
       "             datetime  Haifa_humidity  Haifa_pressure  Haifa_temperature  \\\n",
       "0 2012-10-01 12:00:00             NaN             NaN                NaN   \n",
       "1 2012-10-01 13:00:00            51.0          1013.0              304.4   \n",
       "2 2012-10-01 14:00:00            51.0          1013.0              304.4   \n",
       "3 2012-10-01 15:00:00            51.0          1013.0              304.4   \n",
       "4 2012-10-01 16:00:00            51.0          1013.0              304.4   \n",
       "\n",
       "  Haifa_weather_description  Haifa_wind_direction  Haifa_wind_speed  \n",
       "0                       NaN                   NaN               NaN  \n",
       "1              sky is clear                 336.0               2.0  \n",
       "2           overcast clouds                 336.0               2.0  \n",
       "3           overcast clouds                 336.0               2.0  \n",
       "4           overcast clouds                 336.0               2.0  "
      ]
     },
     "execution_count": 5,
     "metadata": {},
     "output_type": "execute_result"
    }
   ],
   "source": [
    "Haifa.drop('Unnamed: 0', axis=1, inplace=True) #Remove 'Unnamed: 0' column\n",
    "Haifa['datetime']=pd.to_datetime(Haifa['datetime']) #change format of 'datetime' from string to date\n",
    "Haifa.head()"
   ]
  },
  {
   "cell_type": "markdown",
   "id": "d8b07680",
   "metadata": {},
   "source": [
    "#### 2. Remove NaN values"
   ]
  },
  {
   "cell_type": "code",
   "execution_count": 6,
   "id": "a94728ce",
   "metadata": {},
   "outputs": [
    {
     "data": {
      "text/plain": [
       "datetime                       0\n",
       "Haifa_humidity               818\n",
       "Haifa_pressure               798\n",
       "Haifa_temperature            798\n",
       "Haifa_weather_description    793\n",
       "Haifa_wind_direction         793\n",
       "Haifa_wind_speed             795\n",
       "dtype: int64"
      ]
     },
     "execution_count": 6,
     "metadata": {},
     "output_type": "execute_result"
    }
   ],
   "source": [
    "Haifa.isna().sum() #Checking for total NaN values for each column"
   ]
  },
  {
   "cell_type": "code",
   "execution_count": 7,
   "id": "3c3d58e1",
   "metadata": {},
   "outputs": [
    {
     "data": {
      "text/html": [
       "<div>\n",
       "<style scoped>\n",
       "    .dataframe tbody tr th:only-of-type {\n",
       "        vertical-align: middle;\n",
       "    }\n",
       "\n",
       "    .dataframe tbody tr th {\n",
       "        vertical-align: top;\n",
       "    }\n",
       "\n",
       "    .dataframe thead th {\n",
       "        text-align: right;\n",
       "    }\n",
       "</style>\n",
       "<table border=\"1\" class=\"dataframe\">\n",
       "  <thead>\n",
       "    <tr style=\"text-align: right;\">\n",
       "      <th></th>\n",
       "      <th>datetime</th>\n",
       "      <th>Haifa_humidity</th>\n",
       "      <th>Haifa_pressure</th>\n",
       "      <th>Haifa_temperature</th>\n",
       "      <th>Haifa_weather_description</th>\n",
       "      <th>Haifa_wind_direction</th>\n",
       "      <th>Haifa_wind_speed</th>\n",
       "    </tr>\n",
       "  </thead>\n",
       "  <tbody>\n",
       "    <tr>\n",
       "      <th>44458</th>\n",
       "      <td>2017-10-27 22:00:00</td>\n",
       "      <td>95.0</td>\n",
       "      <td>1023.0</td>\n",
       "      <td>299.553</td>\n",
       "      <td>sky is clear</td>\n",
       "      <td>38.0</td>\n",
       "      <td>3.0</td>\n",
       "    </tr>\n",
       "    <tr>\n",
       "      <th>44459</th>\n",
       "      <td>2017-10-27 23:00:00</td>\n",
       "      <td>96.0</td>\n",
       "      <td>1023.0</td>\n",
       "      <td>299.369</td>\n",
       "      <td>sky is clear</td>\n",
       "      <td>69.0</td>\n",
       "      <td>1.0</td>\n",
       "    </tr>\n",
       "    <tr>\n",
       "      <th>44460</th>\n",
       "      <td>2017-10-28 00:00:00</td>\n",
       "      <td>96.0</td>\n",
       "      <td>1023.0</td>\n",
       "      <td>299.369</td>\n",
       "      <td>sky is clear</td>\n",
       "      <td>69.0</td>\n",
       "      <td>1.0</td>\n",
       "    </tr>\n",
       "    <tr>\n",
       "      <th>44461</th>\n",
       "      <td>2017-10-28 01:00:00</td>\n",
       "      <td>NaN</td>\n",
       "      <td>NaN</td>\n",
       "      <td>NaN</td>\n",
       "      <td>NaN</td>\n",
       "      <td>NaN</td>\n",
       "      <td>NaN</td>\n",
       "    </tr>\n",
       "    <tr>\n",
       "      <th>44462</th>\n",
       "      <td>2017-10-28 02:00:00</td>\n",
       "      <td>NaN</td>\n",
       "      <td>NaN</td>\n",
       "      <td>NaN</td>\n",
       "      <td>NaN</td>\n",
       "      <td>NaN</td>\n",
       "      <td>NaN</td>\n",
       "    </tr>\n",
       "    <tr>\n",
       "      <th>...</th>\n",
       "      <td>...</td>\n",
       "      <td>...</td>\n",
       "      <td>...</td>\n",
       "      <td>...</td>\n",
       "      <td>...</td>\n",
       "      <td>...</td>\n",
       "      <td>...</td>\n",
       "    </tr>\n",
       "    <tr>\n",
       "      <th>45248</th>\n",
       "      <td>2017-11-29 20:00:00</td>\n",
       "      <td>NaN</td>\n",
       "      <td>NaN</td>\n",
       "      <td>NaN</td>\n",
       "      <td>NaN</td>\n",
       "      <td>NaN</td>\n",
       "      <td>NaN</td>\n",
       "    </tr>\n",
       "    <tr>\n",
       "      <th>45249</th>\n",
       "      <td>2017-11-29 21:00:00</td>\n",
       "      <td>NaN</td>\n",
       "      <td>NaN</td>\n",
       "      <td>NaN</td>\n",
       "      <td>NaN</td>\n",
       "      <td>NaN</td>\n",
       "      <td>NaN</td>\n",
       "    </tr>\n",
       "    <tr>\n",
       "      <th>45250</th>\n",
       "      <td>2017-11-29 22:00:00</td>\n",
       "      <td>NaN</td>\n",
       "      <td>NaN</td>\n",
       "      <td>NaN</td>\n",
       "      <td>NaN</td>\n",
       "      <td>NaN</td>\n",
       "      <td>NaN</td>\n",
       "    </tr>\n",
       "    <tr>\n",
       "      <th>45251</th>\n",
       "      <td>2017-11-29 23:00:00</td>\n",
       "      <td>NaN</td>\n",
       "      <td>NaN</td>\n",
       "      <td>NaN</td>\n",
       "      <td>NaN</td>\n",
       "      <td>NaN</td>\n",
       "      <td>NaN</td>\n",
       "    </tr>\n",
       "    <tr>\n",
       "      <th>45252</th>\n",
       "      <td>2017-11-30 00:00:00</td>\n",
       "      <td>NaN</td>\n",
       "      <td>NaN</td>\n",
       "      <td>NaN</td>\n",
       "      <td>NaN</td>\n",
       "      <td>NaN</td>\n",
       "      <td>NaN</td>\n",
       "    </tr>\n",
       "  </tbody>\n",
       "</table>\n",
       "<p>795 rows × 7 columns</p>\n",
       "</div>"
      ],
      "text/plain": [
       "                 datetime  Haifa_humidity  Haifa_pressure  Haifa_temperature  \\\n",
       "44458 2017-10-27 22:00:00            95.0          1023.0            299.553   \n",
       "44459 2017-10-27 23:00:00            96.0          1023.0            299.369   \n",
       "44460 2017-10-28 00:00:00            96.0          1023.0            299.369   \n",
       "44461 2017-10-28 01:00:00             NaN             NaN                NaN   \n",
       "44462 2017-10-28 02:00:00             NaN             NaN                NaN   \n",
       "...                   ...             ...             ...                ...   \n",
       "45248 2017-11-29 20:00:00             NaN             NaN                NaN   \n",
       "45249 2017-11-29 21:00:00             NaN             NaN                NaN   \n",
       "45250 2017-11-29 22:00:00             NaN             NaN                NaN   \n",
       "45251 2017-11-29 23:00:00             NaN             NaN                NaN   \n",
       "45252 2017-11-30 00:00:00             NaN             NaN                NaN   \n",
       "\n",
       "      Haifa_weather_description  Haifa_wind_direction  Haifa_wind_speed  \n",
       "44458              sky is clear                  38.0               3.0  \n",
       "44459              sky is clear                  69.0               1.0  \n",
       "44460              sky is clear                  69.0               1.0  \n",
       "44461                       NaN                   NaN               NaN  \n",
       "44462                       NaN                   NaN               NaN  \n",
       "...                         ...                   ...               ...  \n",
       "45248                       NaN                   NaN               NaN  \n",
       "45249                       NaN                   NaN               NaN  \n",
       "45250                       NaN                   NaN               NaN  \n",
       "45251                       NaN                   NaN               NaN  \n",
       "45252                       NaN                   NaN               NaN  \n",
       "\n",
       "[795 rows x 7 columns]"
      ]
     },
     "execution_count": 7,
     "metadata": {},
     "output_type": "execute_result"
    }
   ],
   "source": [
    "Haifa_nan = Haifa[Haifa.isna().any(axis=1)<=1]\n",
    "Haifa_nan.tail(795) #checking for multiple NaN values per row"
   ]
  },
  {
   "cell_type": "code",
   "execution_count": 8,
   "id": "eef30c03",
   "metadata": {},
   "outputs": [],
   "source": [
    "Haifa = Haifa[Haifa.isnull().sum(axis=1) <= 1] #Removing rows with multiple NaN values"
   ]
  },
  {
   "cell_type": "code",
   "execution_count": 9,
   "id": "945bc142",
   "metadata": {},
   "outputs": [
    {
     "data": {
      "text/plain": [
       "(44455, 7)"
      ]
     },
     "execution_count": 9,
     "metadata": {},
     "output_type": "execute_result"
    }
   ],
   "source": [
    "Haifa.shape"
   ]
  },
  {
   "cell_type": "code",
   "execution_count": 10,
   "id": "230dae04",
   "metadata": {},
   "outputs": [
    {
     "data": {
      "text/html": [
       "<div>\n",
       "<style scoped>\n",
       "    .dataframe tbody tr th:only-of-type {\n",
       "        vertical-align: middle;\n",
       "    }\n",
       "\n",
       "    .dataframe tbody tr th {\n",
       "        vertical-align: top;\n",
       "    }\n",
       "\n",
       "    .dataframe thead th {\n",
       "        text-align: right;\n",
       "    }\n",
       "</style>\n",
       "<table border=\"1\" class=\"dataframe\">\n",
       "  <thead>\n",
       "    <tr style=\"text-align: right;\">\n",
       "      <th></th>\n",
       "      <th>datetime</th>\n",
       "      <th>Haifa_humidity</th>\n",
       "      <th>Haifa_pressure</th>\n",
       "      <th>Haifa_temperature</th>\n",
       "      <th>Haifa_weather_description</th>\n",
       "      <th>Haifa_wind_direction</th>\n",
       "      <th>Haifa_wind_speed</th>\n",
       "    </tr>\n",
       "  </thead>\n",
       "  <tbody>\n",
       "    <tr>\n",
       "      <th>31516</th>\n",
       "      <td>2016-05-06 16:00:00</td>\n",
       "      <td>NaN</td>\n",
       "      <td>1011.0</td>\n",
       "      <td>300.370</td>\n",
       "      <td>light rain</td>\n",
       "      <td>272.0</td>\n",
       "      <td>4.0</td>\n",
       "    </tr>\n",
       "    <tr>\n",
       "      <th>31517</th>\n",
       "      <td>2016-05-06 17:00:00</td>\n",
       "      <td>NaN</td>\n",
       "      <td>1011.0</td>\n",
       "      <td>298.710</td>\n",
       "      <td>light rain</td>\n",
       "      <td>272.0</td>\n",
       "      <td>4.0</td>\n",
       "    </tr>\n",
       "    <tr>\n",
       "      <th>31518</th>\n",
       "      <td>2016-05-06 18:00:00</td>\n",
       "      <td>NaN</td>\n",
       "      <td>1012.0</td>\n",
       "      <td>298.150</td>\n",
       "      <td>light rain</td>\n",
       "      <td>272.0</td>\n",
       "      <td>4.0</td>\n",
       "    </tr>\n",
       "    <tr>\n",
       "      <th>31519</th>\n",
       "      <td>2016-05-06 19:00:00</td>\n",
       "      <td>NaN</td>\n",
       "      <td>1012.0</td>\n",
       "      <td>298.150</td>\n",
       "      <td>light rain</td>\n",
       "      <td>272.0</td>\n",
       "      <td>4.0</td>\n",
       "    </tr>\n",
       "    <tr>\n",
       "      <th>31520</th>\n",
       "      <td>2016-05-06 20:00:00</td>\n",
       "      <td>NaN</td>\n",
       "      <td>1012.0</td>\n",
       "      <td>297.590</td>\n",
       "      <td>overcast clouds</td>\n",
       "      <td>275.0</td>\n",
       "      <td>5.0</td>\n",
       "    </tr>\n",
       "    <tr>\n",
       "      <th>31521</th>\n",
       "      <td>2016-05-06 21:00:00</td>\n",
       "      <td>NaN</td>\n",
       "      <td>1012.0</td>\n",
       "      <td>297.590</td>\n",
       "      <td>overcast clouds</td>\n",
       "      <td>275.0</td>\n",
       "      <td>5.0</td>\n",
       "    </tr>\n",
       "    <tr>\n",
       "      <th>31522</th>\n",
       "      <td>2016-05-06 22:00:00</td>\n",
       "      <td>NaN</td>\n",
       "      <td>1011.0</td>\n",
       "      <td>297.590</td>\n",
       "      <td>overcast clouds</td>\n",
       "      <td>275.0</td>\n",
       "      <td>5.0</td>\n",
       "    </tr>\n",
       "    <tr>\n",
       "      <th>31781</th>\n",
       "      <td>2016-05-17 17:00:00</td>\n",
       "      <td>NaN</td>\n",
       "      <td>1010.0</td>\n",
       "      <td>315.930</td>\n",
       "      <td>sky is clear</td>\n",
       "      <td>0.0</td>\n",
       "      <td>0.0</td>\n",
       "    </tr>\n",
       "    <tr>\n",
       "      <th>31782</th>\n",
       "      <td>2016-05-17 18:00:00</td>\n",
       "      <td>NaN</td>\n",
       "      <td>1011.0</td>\n",
       "      <td>315.930</td>\n",
       "      <td>sky is clear</td>\n",
       "      <td>0.0</td>\n",
       "      <td>0.0</td>\n",
       "    </tr>\n",
       "    <tr>\n",
       "      <th>31783</th>\n",
       "      <td>2016-05-17 19:00:00</td>\n",
       "      <td>NaN</td>\n",
       "      <td>1011.0</td>\n",
       "      <td>315.930</td>\n",
       "      <td>sky is clear</td>\n",
       "      <td>0.0</td>\n",
       "      <td>0.0</td>\n",
       "    </tr>\n",
       "    <tr>\n",
       "      <th>31784</th>\n",
       "      <td>2016-05-17 20:00:00</td>\n",
       "      <td>NaN</td>\n",
       "      <td>1011.0</td>\n",
       "      <td>315.930</td>\n",
       "      <td>few clouds</td>\n",
       "      <td>0.0</td>\n",
       "      <td>0.0</td>\n",
       "    </tr>\n",
       "    <tr>\n",
       "      <th>31785</th>\n",
       "      <td>2016-05-17 21:00:00</td>\n",
       "      <td>NaN</td>\n",
       "      <td>1011.0</td>\n",
       "      <td>315.930</td>\n",
       "      <td>few clouds</td>\n",
       "      <td>0.0</td>\n",
       "      <td>0.0</td>\n",
       "    </tr>\n",
       "    <tr>\n",
       "      <th>31786</th>\n",
       "      <td>2016-05-17 22:00:00</td>\n",
       "      <td>NaN</td>\n",
       "      <td>1011.0</td>\n",
       "      <td>315.930</td>\n",
       "      <td>few clouds</td>\n",
       "      <td>0.0</td>\n",
       "      <td>0.0</td>\n",
       "    </tr>\n",
       "    <tr>\n",
       "      <th>31787</th>\n",
       "      <td>2016-05-17 23:00:00</td>\n",
       "      <td>NaN</td>\n",
       "      <td>1010.0</td>\n",
       "      <td>315.930</td>\n",
       "      <td>few clouds</td>\n",
       "      <td>0.0</td>\n",
       "      <td>0.0</td>\n",
       "    </tr>\n",
       "    <tr>\n",
       "      <th>31788</th>\n",
       "      <td>2016-05-18 00:00:00</td>\n",
       "      <td>NaN</td>\n",
       "      <td>1010.0</td>\n",
       "      <td>315.930</td>\n",
       "      <td>few clouds</td>\n",
       "      <td>0.0</td>\n",
       "      <td>0.0</td>\n",
       "    </tr>\n",
       "    <tr>\n",
       "      <th>31789</th>\n",
       "      <td>2016-05-18 01:00:00</td>\n",
       "      <td>NaN</td>\n",
       "      <td>1010.0</td>\n",
       "      <td>315.930</td>\n",
       "      <td>few clouds</td>\n",
       "      <td>0.0</td>\n",
       "      <td>0.0</td>\n",
       "    </tr>\n",
       "    <tr>\n",
       "      <th>31790</th>\n",
       "      <td>2016-05-18 02:00:00</td>\n",
       "      <td>NaN</td>\n",
       "      <td>1010.0</td>\n",
       "      <td>315.930</td>\n",
       "      <td>few clouds</td>\n",
       "      <td>0.0</td>\n",
       "      <td>0.0</td>\n",
       "    </tr>\n",
       "    <tr>\n",
       "      <th>31791</th>\n",
       "      <td>2016-05-18 03:00:00</td>\n",
       "      <td>NaN</td>\n",
       "      <td>1010.0</td>\n",
       "      <td>315.930</td>\n",
       "      <td>few clouds</td>\n",
       "      <td>0.0</td>\n",
       "      <td>0.0</td>\n",
       "    </tr>\n",
       "    <tr>\n",
       "      <th>36549</th>\n",
       "      <td>2016-12-02 09:00:00</td>\n",
       "      <td>55.0</td>\n",
       "      <td>1014.0</td>\n",
       "      <td>288.490</td>\n",
       "      <td>broken clouds</td>\n",
       "      <td>260.0</td>\n",
       "      <td>NaN</td>\n",
       "    </tr>\n",
       "    <tr>\n",
       "      <th>39214</th>\n",
       "      <td>2017-03-23 10:00:00</td>\n",
       "      <td>63.0</td>\n",
       "      <td>1009.0</td>\n",
       "      <td>292.750</td>\n",
       "      <td>sky is clear</td>\n",
       "      <td>340.0</td>\n",
       "      <td>NaN</td>\n",
       "    </tr>\n",
       "    <tr>\n",
       "      <th>42559</th>\n",
       "      <td>2017-08-09 19:00:00</td>\n",
       "      <td>NaN</td>\n",
       "      <td>1019.0</td>\n",
       "      <td>300.893</td>\n",
       "      <td>sky is clear</td>\n",
       "      <td>0.0</td>\n",
       "      <td>0.0</td>\n",
       "    </tr>\n",
       "    <tr>\n",
       "      <th>42560</th>\n",
       "      <td>2017-08-09 20:00:00</td>\n",
       "      <td>NaN</td>\n",
       "      <td>1019.0</td>\n",
       "      <td>300.893</td>\n",
       "      <td>sky is clear</td>\n",
       "      <td>0.0</td>\n",
       "      <td>0.0</td>\n",
       "    </tr>\n",
       "  </tbody>\n",
       "</table>\n",
       "</div>"
      ],
      "text/plain": [
       "                 datetime  Haifa_humidity  Haifa_pressure  Haifa_temperature  \\\n",
       "31516 2016-05-06 16:00:00             NaN          1011.0            300.370   \n",
       "31517 2016-05-06 17:00:00             NaN          1011.0            298.710   \n",
       "31518 2016-05-06 18:00:00             NaN          1012.0            298.150   \n",
       "31519 2016-05-06 19:00:00             NaN          1012.0            298.150   \n",
       "31520 2016-05-06 20:00:00             NaN          1012.0            297.590   \n",
       "31521 2016-05-06 21:00:00             NaN          1012.0            297.590   \n",
       "31522 2016-05-06 22:00:00             NaN          1011.0            297.590   \n",
       "31781 2016-05-17 17:00:00             NaN          1010.0            315.930   \n",
       "31782 2016-05-17 18:00:00             NaN          1011.0            315.930   \n",
       "31783 2016-05-17 19:00:00             NaN          1011.0            315.930   \n",
       "31784 2016-05-17 20:00:00             NaN          1011.0            315.930   \n",
       "31785 2016-05-17 21:00:00             NaN          1011.0            315.930   \n",
       "31786 2016-05-17 22:00:00             NaN          1011.0            315.930   \n",
       "31787 2016-05-17 23:00:00             NaN          1010.0            315.930   \n",
       "31788 2016-05-18 00:00:00             NaN          1010.0            315.930   \n",
       "31789 2016-05-18 01:00:00             NaN          1010.0            315.930   \n",
       "31790 2016-05-18 02:00:00             NaN          1010.0            315.930   \n",
       "31791 2016-05-18 03:00:00             NaN          1010.0            315.930   \n",
       "36549 2016-12-02 09:00:00            55.0          1014.0            288.490   \n",
       "39214 2017-03-23 10:00:00            63.0          1009.0            292.750   \n",
       "42559 2017-08-09 19:00:00             NaN          1019.0            300.893   \n",
       "42560 2017-08-09 20:00:00             NaN          1019.0            300.893   \n",
       "\n",
       "      Haifa_weather_description  Haifa_wind_direction  Haifa_wind_speed  \n",
       "31516                light rain                 272.0               4.0  \n",
       "31517                light rain                 272.0               4.0  \n",
       "31518                light rain                 272.0               4.0  \n",
       "31519                light rain                 272.0               4.0  \n",
       "31520           overcast clouds                 275.0               5.0  \n",
       "31521           overcast clouds                 275.0               5.0  \n",
       "31522           overcast clouds                 275.0               5.0  \n",
       "31781              sky is clear                   0.0               0.0  \n",
       "31782              sky is clear                   0.0               0.0  \n",
       "31783              sky is clear                   0.0               0.0  \n",
       "31784                few clouds                   0.0               0.0  \n",
       "31785                few clouds                   0.0               0.0  \n",
       "31786                few clouds                   0.0               0.0  \n",
       "31787                few clouds                   0.0               0.0  \n",
       "31788                few clouds                   0.0               0.0  \n",
       "31789                few clouds                   0.0               0.0  \n",
       "31790                few clouds                   0.0               0.0  \n",
       "31791                few clouds                   0.0               0.0  \n",
       "36549             broken clouds                 260.0               NaN  \n",
       "39214              sky is clear                 340.0               NaN  \n",
       "42559              sky is clear                   0.0               0.0  \n",
       "42560              sky is clear                   0.0               0.0  "
      ]
     },
     "execution_count": 10,
     "metadata": {},
     "output_type": "execute_result"
    }
   ],
   "source": [
    "Haifa[Haifa.isna().any(axis=1)] #Checking for rows with single NaN values"
   ]
  },
  {
   "cell_type": "code",
   "execution_count": 11,
   "id": "ae924f86",
   "metadata": {},
   "outputs": [
    {
     "data": {
      "text/plain": [
       "datetime                      0\n",
       "Haifa_humidity               20\n",
       "Haifa_pressure                0\n",
       "Haifa_temperature             0\n",
       "Haifa_weather_description     0\n",
       "Haifa_wind_direction          0\n",
       "Haifa_wind_speed              2\n",
       "dtype: int64"
      ]
     },
     "execution_count": 11,
     "metadata": {},
     "output_type": "execute_result"
    }
   ],
   "source": [
    "Haifa[Haifa.isna().any(axis=1)].isna().sum() #Checking number of NaN values per column"
   ]
  },
  {
   "cell_type": "markdown",
   "id": "2fb88e57",
   "metadata": {},
   "source": [
    "### Check for Outliers"
   ]
  },
  {
   "cell_type": "code",
   "execution_count": 12,
   "id": "dde05405",
   "metadata": {},
   "outputs": [
    {
     "data": {
      "text/plain": [
       "<AxesSubplot:xlabel='Haifa_pressure'>"
      ]
     },
     "execution_count": 12,
     "metadata": {},
     "output_type": "execute_result"
    },
    {
     "data": {
      "image/png": "[encoded data removed]",
      "text/plain": [
       "<Figure size 432x288 with 1 Axes>"
      ]
     },
     "metadata": {
      "needs_background": "light"
     },
     "output_type": "display_data"
    }
   ],
   "source": [
    "sns.boxplot(x=Haifa['Haifa_pressure'])"
   ]
  },
  {
   "cell_type": "code",
   "execution_count": 13,
   "id": "286e0724",
   "metadata": {},
   "outputs": [
    {
     "data": {
      "text/plain": [
       "<AxesSubplot:xlabel='Haifa_temperature'>"
      ]
     },
     "execution_count": 13,
     "metadata": {},
     "output_type": "execute_result"
    },
    {
     "data": {
      "image/png": "[encoded data removed]",
      "text/plain": [
       "<Figure size 432x288 with 1 Axes>"
      ]
     },
     "metadata": {
      "needs_background": "light"
     },
     "output_type": "display_data"
    }
   ],
   "source": [
    "sns.boxplot(x=Haifa['Haifa_temperature'])"
   ]
  },
  {
   "cell_type": "code",
   "execution_count": 14,
   "id": "7ceaa0e1",
   "metadata": {},
   "outputs": [
    {
     "data": {
      "text/plain": [
       "<AxesSubplot:xlabel='Haifa_humidity'>"
      ]
     },
     "execution_count": 14,
     "metadata": {},
     "output_type": "execute_result"
    },
    {
     "data": {
      "image/png": "[encoded data removed]",
      "text/plain": [
       "<Figure size 432x288 with 1 Axes>"
      ]
     },
     "metadata": {
      "needs_background": "light"
     },
     "output_type": "display_data"
    }
   ],
   "source": [
    "sns.boxplot(x=Haifa['Haifa_humidity'])"
   ]
  },
  {
   "cell_type": "code",
   "execution_count": 15,
   "id": "7604e907",
   "metadata": {},
   "outputs": [
    {
     "data": {
      "text/plain": [
       "<AxesSubplot:xlabel='Haifa_wind_direction'>"
      ]
     },
     "execution_count": 15,
     "metadata": {},
     "output_type": "execute_result"
    },
    {
     "data": {
      "image/png": "[encoded data removed]",
      "text/plain": [
       "<Figure size 432x288 with 1 Axes>"
      ]
     },
     "metadata": {
      "needs_background": "light"
     },
     "output_type": "display_data"
    }
   ],
   "source": [
    "sns.boxplot(x=Haifa['Haifa_wind_direction'])"
   ]
  },
  {
   "cell_type": "code",
   "execution_count": 16,
   "id": "ea53f45d",
   "metadata": {},
   "outputs": [
    {
     "data": {
      "text/plain": [
       "<AxesSubplot:xlabel='Haifa_wind_speed'>"
      ]
     },
     "execution_count": 16,
     "metadata": {},
     "output_type": "execute_result"
    },
    {
     "data": {
      "image/png": "[encoded data removed]",
      "text/plain": [
       "<Figure size 432x288 with 1 Axes>"
      ]
     },
     "metadata": {
      "needs_background": "light"
     },
     "output_type": "display_data"
    }
   ],
   "source": [
    "sns.boxplot(x=Haifa['Haifa_wind_speed'])"
   ]
  },
  {
   "cell_type": "code",
   "execution_count": 17,
   "id": "c8122005",
   "metadata": {},
   "outputs": [
    {
     "data": {
      "text/html": [
       "<div>\n",
       "<style scoped>\n",
       "    .dataframe tbody tr th:only-of-type {\n",
       "        vertical-align: middle;\n",
       "    }\n",
       "\n",
       "    .dataframe tbody tr th {\n",
       "        vertical-align: top;\n",
       "    }\n",
       "\n",
       "    .dataframe thead th {\n",
       "        text-align: right;\n",
       "    }\n",
       "</style>\n",
       "<table border=\"1\" class=\"dataframe\">\n",
       "  <thead>\n",
       "    <tr style=\"text-align: right;\">\n",
       "      <th></th>\n",
       "      <th>Haifa_humidity</th>\n",
       "      <th>Haifa_pressure</th>\n",
       "      <th>Haifa_temperature</th>\n",
       "      <th>Haifa_wind_direction</th>\n",
       "      <th>Haifa_wind_speed</th>\n",
       "    </tr>\n",
       "  </thead>\n",
       "  <tbody>\n",
       "    <tr>\n",
       "      <th>count</th>\n",
       "      <td>44435.000000</td>\n",
       "      <td>44455.000000</td>\n",
       "      <td>44455.000000</td>\n",
       "      <td>44455.000000</td>\n",
       "      <td>44453.000000</td>\n",
       "    </tr>\n",
       "    <tr>\n",
       "      <th>mean</th>\n",
       "      <td>79.800383</td>\n",
       "      <td>1017.550804</td>\n",
       "      <td>295.266398</td>\n",
       "      <td>196.092611</td>\n",
       "      <td>3.299777</td>\n",
       "    </tr>\n",
       "    <tr>\n",
       "      <th>std</th>\n",
       "      <td>23.051692</td>\n",
       "      <td>7.500017</td>\n",
       "      <td>6.324566</td>\n",
       "      <td>112.485353</td>\n",
       "      <td>2.177344</td>\n",
       "    </tr>\n",
       "    <tr>\n",
       "      <th>min</th>\n",
       "      <td>5.000000</td>\n",
       "      <td>999.000000</td>\n",
       "      <td>271.150000</td>\n",
       "      <td>0.000000</td>\n",
       "      <td>0.000000</td>\n",
       "    </tr>\n",
       "    <tr>\n",
       "      <th>25%</th>\n",
       "      <td>63.000000</td>\n",
       "      <td>1012.000000</td>\n",
       "      <td>290.467333</td>\n",
       "      <td>107.000000</td>\n",
       "      <td>2.000000</td>\n",
       "    </tr>\n",
       "    <tr>\n",
       "      <th>50%</th>\n",
       "      <td>89.000000</td>\n",
       "      <td>1017.000000</td>\n",
       "      <td>294.820000</td>\n",
       "      <td>224.000000</td>\n",
       "      <td>3.000000</td>\n",
       "    </tr>\n",
       "    <tr>\n",
       "      <th>75%</th>\n",
       "      <td>100.000000</td>\n",
       "      <td>1024.000000</td>\n",
       "      <td>299.660000</td>\n",
       "      <td>291.000000</td>\n",
       "      <td>4.000000</td>\n",
       "    </tr>\n",
       "    <tr>\n",
       "      <th>max</th>\n",
       "      <td>100.000000</td>\n",
       "      <td>1042.000000</td>\n",
       "      <td>320.930000</td>\n",
       "      <td>360.000000</td>\n",
       "      <td>19.000000</td>\n",
       "    </tr>\n",
       "  </tbody>\n",
       "</table>\n",
       "</div>"
      ],
      "text/plain": [
       "       Haifa_humidity  Haifa_pressure  Haifa_temperature  \\\n",
       "count    44435.000000    44455.000000       44455.000000   \n",
       "mean        79.800383     1017.550804         295.266398   \n",
       "std         23.051692        7.500017           6.324566   \n",
       "min          5.000000      999.000000         271.150000   \n",
       "25%         63.000000     1012.000000         290.467333   \n",
       "50%         89.000000     1017.000000         294.820000   \n",
       "75%        100.000000     1024.000000         299.660000   \n",
       "max        100.000000     1042.000000         320.930000   \n",
       "\n",
       "       Haifa_wind_direction  Haifa_wind_speed  \n",
       "count          44455.000000      44453.000000  \n",
       "mean             196.092611          3.299777  \n",
       "std              112.485353          2.177344  \n",
       "min                0.000000          0.000000  \n",
       "25%              107.000000          2.000000  \n",
       "50%              224.000000          3.000000  \n",
       "75%              291.000000          4.000000  \n",
       "max              360.000000         19.000000  "
      ]
     },
     "execution_count": 17,
     "metadata": {},
     "output_type": "execute_result"
    }
   ],
   "source": [
    "Haifa.describe()"
   ]
  },
  {
   "cell_type": "code",
   "execution_count": 18,
   "id": "67a0a173",
   "metadata": {},
   "outputs": [],
   "source": [
    "Haifa.dropna(inplace=True) #Remove rows with NaN values"
   ]
  },
  {
   "cell_type": "code",
   "execution_count": 19,
   "id": "553d13e2",
   "metadata": {},
   "outputs": [
    {
     "data": {
      "text/html": [
       "<div>\n",
       "<style scoped>\n",
       "    .dataframe tbody tr th:only-of-type {\n",
       "        vertical-align: middle;\n",
       "    }\n",
       "\n",
       "    .dataframe tbody tr th {\n",
       "        vertical-align: top;\n",
       "    }\n",
       "\n",
       "    .dataframe thead th {\n",
       "        text-align: right;\n",
       "    }\n",
       "</style>\n",
       "<table border=\"1\" class=\"dataframe\">\n",
       "  <thead>\n",
       "    <tr style=\"text-align: right;\">\n",
       "      <th></th>\n",
       "      <th>datetime</th>\n",
       "      <th>Haifa_humidity</th>\n",
       "      <th>Haifa_pressure</th>\n",
       "      <th>Haifa_temperature</th>\n",
       "      <th>Haifa_weather_description</th>\n",
       "      <th>Haifa_wind_direction</th>\n",
       "      <th>Haifa_wind_speed</th>\n",
       "    </tr>\n",
       "  </thead>\n",
       "  <tbody>\n",
       "  </tbody>\n",
       "</table>\n",
       "</div>"
      ],
      "text/plain": [
       "Empty DataFrame\n",
       "Columns: [datetime, Haifa_humidity, Haifa_pressure, Haifa_temperature, Haifa_weather_description, Haifa_wind_direction, Haifa_wind_speed]\n",
       "Index: []"
      ]
     },
     "execution_count": 19,
     "metadata": {},
     "output_type": "execute_result"
    }
   ],
   "source": [
    "Haifa[Haifa.isna().any(axis=1)] #Confirm removal of NaN values"
   ]
  },
  {
   "cell_type": "markdown",
   "id": "6187c6ad",
   "metadata": {},
   "source": [
    "### Check for insights"
   ]
  },
  {
   "cell_type": "code",
   "execution_count": 20,
   "id": "2d02cf84",
   "metadata": {},
   "outputs": [
    {
     "data": {
      "text/plain": [
       "<AxesSubplot:>"
      ]
     },
     "execution_count": 20,
     "metadata": {},
     "output_type": "execute_result"
    },
    {
     "data": {
      "image/png": "[encoded data removed]",
      "text/plain": [
       "<Figure size 432x288 with 1 Axes>"
      ]
     },
     "metadata": {
      "needs_background": "light"
     },
     "output_type": "display_data"
    }
   ],
   "source": [
    "Haifa['Haifa_weather_description'].value_counts().plot(kind='bar') #Check distribution of target variable"
   ]
  },
  {
   "cell_type": "code",
   "execution_count": 21,
   "id": "dbe382ce",
   "metadata": {},
   "outputs": [
    {
     "data": {
      "text/html": [
       "<div>\n",
       "<style scoped>\n",
       "    .dataframe tbody tr th:only-of-type {\n",
       "        vertical-align: middle;\n",
       "    }\n",
       "\n",
       "    .dataframe tbody tr th {\n",
       "        vertical-align: top;\n",
       "    }\n",
       "\n",
       "    .dataframe thead th {\n",
       "        text-align: right;\n",
       "    }\n",
       "</style>\n",
       "<table border=\"1\" class=\"dataframe\">\n",
       "  <thead>\n",
       "    <tr style=\"text-align: right;\">\n",
       "      <th></th>\n",
       "      <th>Haifa_humidity</th>\n",
       "      <th>Haifa_pressure</th>\n",
       "      <th>Haifa_temperature</th>\n",
       "      <th>Haifa_wind_direction</th>\n",
       "      <th>Haifa_wind_speed</th>\n",
       "    </tr>\n",
       "  </thead>\n",
       "  <tbody>\n",
       "    <tr>\n",
       "      <th>count</th>\n",
       "      <td>44433.000000</td>\n",
       "      <td>44433.000000</td>\n",
       "      <td>44433.000000</td>\n",
       "      <td>44433.000000</td>\n",
       "      <td>44433.000000</td>\n",
       "    </tr>\n",
       "    <tr>\n",
       "      <th>mean</th>\n",
       "      <td>79.801319</td>\n",
       "      <td>1017.553710</td>\n",
       "      <td>295.260760</td>\n",
       "      <td>196.133144</td>\n",
       "      <td>3.300565</td>\n",
       "    </tr>\n",
       "    <tr>\n",
       "      <th>std</th>\n",
       "      <td>23.051773</td>\n",
       "      <td>7.500525</td>\n",
       "      <td>6.317437</td>\n",
       "      <td>112.456526</td>\n",
       "      <td>2.177047</td>\n",
       "    </tr>\n",
       "    <tr>\n",
       "      <th>min</th>\n",
       "      <td>5.000000</td>\n",
       "      <td>999.000000</td>\n",
       "      <td>271.150000</td>\n",
       "      <td>0.000000</td>\n",
       "      <td>0.000000</td>\n",
       "    </tr>\n",
       "    <tr>\n",
       "      <th>25%</th>\n",
       "      <td>63.000000</td>\n",
       "      <td>1012.000000</td>\n",
       "      <td>290.464000</td>\n",
       "      <td>107.000000</td>\n",
       "      <td>2.000000</td>\n",
       "    </tr>\n",
       "    <tr>\n",
       "      <th>50%</th>\n",
       "      <td>89.000000</td>\n",
       "      <td>1017.000000</td>\n",
       "      <td>294.820000</td>\n",
       "      <td>224.000000</td>\n",
       "      <td>3.000000</td>\n",
       "    </tr>\n",
       "    <tr>\n",
       "      <th>75%</th>\n",
       "      <td>100.000000</td>\n",
       "      <td>1024.000000</td>\n",
       "      <td>299.655000</td>\n",
       "      <td>291.000000</td>\n",
       "      <td>4.000000</td>\n",
       "    </tr>\n",
       "    <tr>\n",
       "      <th>max</th>\n",
       "      <td>100.000000</td>\n",
       "      <td>1042.000000</td>\n",
       "      <td>320.930000</td>\n",
       "      <td>360.000000</td>\n",
       "      <td>19.000000</td>\n",
       "    </tr>\n",
       "  </tbody>\n",
       "</table>\n",
       "</div>"
      ],
      "text/plain": [
       "       Haifa_humidity  Haifa_pressure  Haifa_temperature  \\\n",
       "count    44433.000000    44433.000000       44433.000000   \n",
       "mean        79.801319     1017.553710         295.260760   \n",
       "std         23.051773        7.500525           6.317437   \n",
       "min          5.000000      999.000000         271.150000   \n",
       "25%         63.000000     1012.000000         290.464000   \n",
       "50%         89.000000     1017.000000         294.820000   \n",
       "75%        100.000000     1024.000000         299.655000   \n",
       "max        100.000000     1042.000000         320.930000   \n",
       "\n",
       "       Haifa_wind_direction  Haifa_wind_speed  \n",
       "count          44433.000000      44433.000000  \n",
       "mean             196.133144          3.300565  \n",
       "std              112.456526          2.177047  \n",
       "min                0.000000          0.000000  \n",
       "25%              107.000000          2.000000  \n",
       "50%              224.000000          3.000000  \n",
       "75%              291.000000          4.000000  \n",
       "max              360.000000         19.000000  "
      ]
     },
     "execution_count": 21,
     "metadata": {},
     "output_type": "execute_result"
    }
   ],
   "source": [
    "Haifa.describe()"
   ]
  },
  {
   "cell_type": "code",
   "execution_count": 22,
   "id": "199fc53e",
   "metadata": {},
   "outputs": [
    {
     "data": {
      "text/plain": [
       "<AxesSubplot:>"
      ]
     },
     "execution_count": 22,
     "metadata": {},
     "output_type": "execute_result"
    },
    {
     "data": {
      "image/png": "[encoded data removed]",
      "text/plain": [
       "<Figure size 432x288 with 2 Axes>"
      ]
     },
     "metadata": {
      "needs_background": "light"
     },
     "output_type": "display_data"
    }
   ],
   "source": [
    "sns.heatmap(Haifa.corr(),cbar=True,annot=True,cmap='Blues') #checking for correlation"
   ]
  },
  {
   "cell_type": "code",
   "execution_count": null,
   "id": "1b29dfb4",
   "metadata": {},
   "outputs": [],
   "source": []
  }
 ],
 "metadata": {
  "kernelspec": {
   "display_name": "Python 3 (ipykernel)",
   "language": "python",
   "name": "python3"
  },
  "language_info": {
   "codemirror_mode": {
    "name": "ipython",
    "version": 3
   },
   "file_extension": ".py",
   "mimetype": "text/x-python",
   "name": "python",
   "nbconvert_exporter": "python",
   "pygments_lexer": "ipython3",
   "version": "3.9.7"
  }
 },
 "nbformat": 4,
 "nbformat_minor": 5
}
