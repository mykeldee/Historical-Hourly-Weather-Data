{
 "cells": [
  {
   "cell_type": "markdown",
   "id": "c8a033b5",
   "metadata": {},
   "source": [
    "### Import libraries"
   ]
  },
  {
   "cell_type": "code",
   "execution_count": 1,
   "id": "ba03c1dd",
   "metadata": {},
   "outputs": [],
   "source": [
    "import pandas as pd\n",
    "import numpy as np\n",
    "import seaborn as sns\n",
    "from matplotlib import pyplot as plt\n",
    "import os\n",
    "from datetime import datetime"
   ]
  },
  {
   "cell_type": "markdown",
   "id": "2acc2d1f",
   "metadata": {},
   "source": [
    "### Read city file"
   ]
  },
  {
   "cell_type": "code",
   "execution_count": 2,
   "id": "76b02b4a",
   "metadata": {},
   "outputs": [],
   "source": [
    "Nahariyya = pd.read_csv('./cities/Nahariyya.csv')"
   ]
  },
  {
   "cell_type": "markdown",
   "id": "b06ae7c9",
   "metadata": {},
   "source": [
    "### Check rows, columns and data types"
   ]
  },
  {
   "cell_type": "code",
   "execution_count": 3,
   "id": "2ab2f8f2",
   "metadata": {},
   "outputs": [
    {
     "data": {
      "text/html": [
       "<div>\n",
       "<style scoped>\n",
       "    .dataframe tbody tr th:only-of-type {\n",
       "        vertical-align: middle;\n",
       "    }\n",
       "\n",
       "    .dataframe tbody tr th {\n",
       "        vertical-align: top;\n",
       "    }\n",
       "\n",
       "    .dataframe thead th {\n",
       "        text-align: right;\n",
       "    }\n",
       "</style>\n",
       "<table border=\"1\" class=\"dataframe\">\n",
       "  <thead>\n",
       "    <tr style=\"text-align: right;\">\n",
       "      <th></th>\n",
       "      <th>Unnamed: 0</th>\n",
       "      <th>datetime</th>\n",
       "      <th>Nahariyya_humidity</th>\n",
       "      <th>Nahariyya_pressure</th>\n",
       "      <th>Nahariyya_temperature</th>\n",
       "      <th>Nahariyya_weather_description</th>\n",
       "      <th>Nahariyya_wind_direction</th>\n",
       "      <th>Nahariyya_wind_speed</th>\n",
       "    </tr>\n",
       "  </thead>\n",
       "  <tbody>\n",
       "    <tr>\n",
       "      <th>0</th>\n",
       "      <td>0</td>\n",
       "      <td>2012-10-01 12:00:00</td>\n",
       "      <td>NaN</td>\n",
       "      <td>NaN</td>\n",
       "      <td>NaN</td>\n",
       "      <td>NaN</td>\n",
       "      <td>NaN</td>\n",
       "      <td>NaN</td>\n",
       "    </tr>\n",
       "    <tr>\n",
       "      <th>1</th>\n",
       "      <td>1</td>\n",
       "      <td>2012-10-01 13:00:00</td>\n",
       "      <td>51.0</td>\n",
       "      <td>1013.0</td>\n",
       "      <td>304.4</td>\n",
       "      <td>sky is clear</td>\n",
       "      <td>336.0</td>\n",
       "      <td>2.0</td>\n",
       "    </tr>\n",
       "    <tr>\n",
       "      <th>2</th>\n",
       "      <td>2</td>\n",
       "      <td>2012-10-01 14:00:00</td>\n",
       "      <td>51.0</td>\n",
       "      <td>1013.0</td>\n",
       "      <td>304.4</td>\n",
       "      <td>sky is clear</td>\n",
       "      <td>336.0</td>\n",
       "      <td>2.0</td>\n",
       "    </tr>\n",
       "    <tr>\n",
       "      <th>3</th>\n",
       "      <td>3</td>\n",
       "      <td>2012-10-01 15:00:00</td>\n",
       "      <td>51.0</td>\n",
       "      <td>1013.0</td>\n",
       "      <td>304.4</td>\n",
       "      <td>overcast clouds</td>\n",
       "      <td>336.0</td>\n",
       "      <td>2.0</td>\n",
       "    </tr>\n",
       "    <tr>\n",
       "      <th>4</th>\n",
       "      <td>4</td>\n",
       "      <td>2012-10-01 16:00:00</td>\n",
       "      <td>51.0</td>\n",
       "      <td>1013.0</td>\n",
       "      <td>304.4</td>\n",
       "      <td>overcast clouds</td>\n",
       "      <td>336.0</td>\n",
       "      <td>2.0</td>\n",
       "    </tr>\n",
       "  </tbody>\n",
       "</table>\n",
       "</div>"
      ],
      "text/plain": [
       "   Unnamed: 0             datetime  Nahariyya_humidity  Nahariyya_pressure  \\\n",
       "0           0  2012-10-01 12:00:00                 NaN                 NaN   \n",
       "1           1  2012-10-01 13:00:00                51.0              1013.0   \n",
       "2           2  2012-10-01 14:00:00                51.0              1013.0   \n",
       "3           3  2012-10-01 15:00:00                51.0              1013.0   \n",
       "4           4  2012-10-01 16:00:00                51.0              1013.0   \n",
       "\n",
       "   Nahariyya_temperature Nahariyya_weather_description  \\\n",
       "0                    NaN                           NaN   \n",
       "1                  304.4                  sky is clear   \n",
       "2                  304.4                  sky is clear   \n",
       "3                  304.4               overcast clouds   \n",
       "4                  304.4               overcast clouds   \n",
       "\n",
       "   Nahariyya_wind_direction  Nahariyya_wind_speed  \n",
       "0                       NaN                   NaN  \n",
       "1                     336.0                   2.0  \n",
       "2                     336.0                   2.0  \n",
       "3                     336.0                   2.0  \n",
       "4                     336.0                   2.0  "
      ]
     },
     "execution_count": 3,
     "metadata": {},
     "output_type": "execute_result"
    }
   ],
   "source": [
    "Nahariyya.head()"
   ]
  },
  {
   "cell_type": "code",
   "execution_count": 4,
   "id": "6f9309a7",
   "metadata": {},
   "outputs": [
    {
     "data": {
      "text/plain": [
       "Unnamed: 0                         int64\n",
       "datetime                          object\n",
       "Nahariyya_humidity               float64\n",
       "Nahariyya_pressure               float64\n",
       "Nahariyya_temperature            float64\n",
       "Nahariyya_weather_description     object\n",
       "Nahariyya_wind_direction         float64\n",
       "Nahariyya_wind_speed             float64\n",
       "dtype: object"
      ]
     },
     "execution_count": 4,
     "metadata": {},
     "output_type": "execute_result"
    }
   ],
   "source": [
    "Nahariyya.dtypes"
   ]
  },
  {
   "cell_type": "markdown",
   "id": "fc184e41",
   "metadata": {},
   "source": [
    "### Data Cleaning\n",
    "#### 1. Remove unwanted columns and formating of columns"
   ]
  },
  {
   "cell_type": "code",
   "execution_count": 5,
   "id": "57d08919",
   "metadata": {},
   "outputs": [
    {
     "data": {
      "text/html": [
       "<div>\n",
       "<style scoped>\n",
       "    .dataframe tbody tr th:only-of-type {\n",
       "        vertical-align: middle;\n",
       "    }\n",
       "\n",
       "    .dataframe tbody tr th {\n",
       "        vertical-align: top;\n",
       "    }\n",
       "\n",
       "    .dataframe thead th {\n",
       "        text-align: right;\n",
       "    }\n",
       "</style>\n",
       "<table border=\"1\" class=\"dataframe\">\n",
       "  <thead>\n",
       "    <tr style=\"text-align: right;\">\n",
       "      <th></th>\n",
       "      <th>datetime</th>\n",
       "      <th>Nahariyya_humidity</th>\n",
       "      <th>Nahariyya_pressure</th>\n",
       "      <th>Nahariyya_temperature</th>\n",
       "      <th>Nahariyya_weather_description</th>\n",
       "      <th>Nahariyya_wind_direction</th>\n",
       "      <th>Nahariyya_wind_speed</th>\n",
       "    </tr>\n",
       "  </thead>\n",
       "  <tbody>\n",
       "    <tr>\n",
       "      <th>0</th>\n",
       "      <td>2012-10-01 12:00:00</td>\n",
       "      <td>NaN</td>\n",
       "      <td>NaN</td>\n",
       "      <td>NaN</td>\n",
       "      <td>NaN</td>\n",
       "      <td>NaN</td>\n",
       "      <td>NaN</td>\n",
       "    </tr>\n",
       "    <tr>\n",
       "      <th>1</th>\n",
       "      <td>2012-10-01 13:00:00</td>\n",
       "      <td>51.0</td>\n",
       "      <td>1013.0</td>\n",
       "      <td>304.4</td>\n",
       "      <td>sky is clear</td>\n",
       "      <td>336.0</td>\n",
       "      <td>2.0</td>\n",
       "    </tr>\n",
       "    <tr>\n",
       "      <th>2</th>\n",
       "      <td>2012-10-01 14:00:00</td>\n",
       "      <td>51.0</td>\n",
       "      <td>1013.0</td>\n",
       "      <td>304.4</td>\n",
       "      <td>sky is clear</td>\n",
       "      <td>336.0</td>\n",
       "      <td>2.0</td>\n",
       "    </tr>\n",
       "    <tr>\n",
       "      <th>3</th>\n",
       "      <td>2012-10-01 15:00:00</td>\n",
       "      <td>51.0</td>\n",
       "      <td>1013.0</td>\n",
       "      <td>304.4</td>\n",
       "      <td>overcast clouds</td>\n",
       "      <td>336.0</td>\n",
       "      <td>2.0</td>\n",
       "    </tr>\n",
       "    <tr>\n",
       "      <th>4</th>\n",
       "      <td>2012-10-01 16:00:00</td>\n",
       "      <td>51.0</td>\n",
       "      <td>1013.0</td>\n",
       "      <td>304.4</td>\n",
       "      <td>overcast clouds</td>\n",
       "      <td>336.0</td>\n",
       "      <td>2.0</td>\n",
       "    </tr>\n",
       "  </tbody>\n",
       "</table>\n",
       "</div>"
      ],
      "text/plain": [
       "             datetime  Nahariyya_humidity  Nahariyya_pressure  \\\n",
       "0 2012-10-01 12:00:00                 NaN                 NaN   \n",
       "1 2012-10-01 13:00:00                51.0              1013.0   \n",
       "2 2012-10-01 14:00:00                51.0              1013.0   \n",
       "3 2012-10-01 15:00:00                51.0              1013.0   \n",
       "4 2012-10-01 16:00:00                51.0              1013.0   \n",
       "\n",
       "   Nahariyya_temperature Nahariyya_weather_description  \\\n",
       "0                    NaN                           NaN   \n",
       "1                  304.4                  sky is clear   \n",
       "2                  304.4                  sky is clear   \n",
       "3                  304.4               overcast clouds   \n",
       "4                  304.4               overcast clouds   \n",
       "\n",
       "   Nahariyya_wind_direction  Nahariyya_wind_speed  \n",
       "0                       NaN                   NaN  \n",
       "1                     336.0                   2.0  \n",
       "2                     336.0                   2.0  \n",
       "3                     336.0                   2.0  \n",
       "4                     336.0                   2.0  "
      ]
     },
     "execution_count": 5,
     "metadata": {},
     "output_type": "execute_result"
    }
   ],
   "source": [
    "Nahariyya.drop('Unnamed: 0', axis=1, inplace=True) #Remove 'Unnamed: 0' column\n",
    "Nahariyya['datetime']=pd.to_datetime(Nahariyya['datetime']) #change format of 'datetime' from string to date\n",
    "Nahariyya.head()"
   ]
  },
  {
   "cell_type": "markdown",
   "id": "d8b07680",
   "metadata": {},
   "source": [
    "#### 2. Remove NaN values"
   ]
  },
  {
   "cell_type": "code",
   "execution_count": 6,
   "id": "a94728ce",
   "metadata": {},
   "outputs": [
    {
     "data": {
      "text/plain": [
       "datetime                           0\n",
       "Nahariyya_humidity               817\n",
       "Nahariyya_pressure               795\n",
       "Nahariyya_temperature            797\n",
       "Nahariyya_weather_description    793\n",
       "Nahariyya_wind_direction         793\n",
       "Nahariyya_wind_speed             794\n",
       "dtype: int64"
      ]
     },
     "execution_count": 6,
     "metadata": {},
     "output_type": "execute_result"
    }
   ],
   "source": [
    "Nahariyya.isna().sum() #Checking for total NaN values for each column"
   ]
  },
  {
   "cell_type": "code",
   "execution_count": 7,
   "id": "3c3d58e1",
   "metadata": {},
   "outputs": [
    {
     "data": {
      "text/html": [
       "<div>\n",
       "<style scoped>\n",
       "    .dataframe tbody tr th:only-of-type {\n",
       "        vertical-align: middle;\n",
       "    }\n",
       "\n",
       "    .dataframe tbody tr th {\n",
       "        vertical-align: top;\n",
       "    }\n",
       "\n",
       "    .dataframe thead th {\n",
       "        text-align: right;\n",
       "    }\n",
       "</style>\n",
       "<table border=\"1\" class=\"dataframe\">\n",
       "  <thead>\n",
       "    <tr style=\"text-align: right;\">\n",
       "      <th></th>\n",
       "      <th>datetime</th>\n",
       "      <th>Nahariyya_humidity</th>\n",
       "      <th>Nahariyya_pressure</th>\n",
       "      <th>Nahariyya_temperature</th>\n",
       "      <th>Nahariyya_weather_description</th>\n",
       "      <th>Nahariyya_wind_direction</th>\n",
       "      <th>Nahariyya_wind_speed</th>\n",
       "    </tr>\n",
       "  </thead>\n",
       "  <tbody>\n",
       "    <tr>\n",
       "      <th>39214</th>\n",
       "      <td>2017-03-23 10:00:00</td>\n",
       "      <td>63.0</td>\n",
       "      <td>1009.0</td>\n",
       "      <td>292.690</td>\n",
       "      <td>sky is clear</td>\n",
       "      <td>340.0</td>\n",
       "      <td>NaN</td>\n",
       "    </tr>\n",
       "    <tr>\n",
       "      <th>42559</th>\n",
       "      <td>2017-08-09 19:00:00</td>\n",
       "      <td>NaN</td>\n",
       "      <td>1019.0</td>\n",
       "      <td>300.893</td>\n",
       "      <td>sky is clear</td>\n",
       "      <td>0.0</td>\n",
       "      <td>0.0</td>\n",
       "    </tr>\n",
       "    <tr>\n",
       "      <th>42560</th>\n",
       "      <td>2017-08-09 20:00:00</td>\n",
       "      <td>NaN</td>\n",
       "      <td>1019.0</td>\n",
       "      <td>300.893</td>\n",
       "      <td>sky is clear</td>\n",
       "      <td>0.0</td>\n",
       "      <td>0.0</td>\n",
       "    </tr>\n",
       "    <tr>\n",
       "      <th>44461</th>\n",
       "      <td>2017-10-28 01:00:00</td>\n",
       "      <td>NaN</td>\n",
       "      <td>NaN</td>\n",
       "      <td>NaN</td>\n",
       "      <td>NaN</td>\n",
       "      <td>NaN</td>\n",
       "      <td>NaN</td>\n",
       "    </tr>\n",
       "    <tr>\n",
       "      <th>44462</th>\n",
       "      <td>2017-10-28 02:00:00</td>\n",
       "      <td>NaN</td>\n",
       "      <td>NaN</td>\n",
       "      <td>NaN</td>\n",
       "      <td>NaN</td>\n",
       "      <td>NaN</td>\n",
       "      <td>NaN</td>\n",
       "    </tr>\n",
       "    <tr>\n",
       "      <th>...</th>\n",
       "      <td>...</td>\n",
       "      <td>...</td>\n",
       "      <td>...</td>\n",
       "      <td>...</td>\n",
       "      <td>...</td>\n",
       "      <td>...</td>\n",
       "      <td>...</td>\n",
       "    </tr>\n",
       "    <tr>\n",
       "      <th>45248</th>\n",
       "      <td>2017-11-29 20:00:00</td>\n",
       "      <td>NaN</td>\n",
       "      <td>NaN</td>\n",
       "      <td>NaN</td>\n",
       "      <td>NaN</td>\n",
       "      <td>NaN</td>\n",
       "      <td>NaN</td>\n",
       "    </tr>\n",
       "    <tr>\n",
       "      <th>45249</th>\n",
       "      <td>2017-11-29 21:00:00</td>\n",
       "      <td>NaN</td>\n",
       "      <td>NaN</td>\n",
       "      <td>NaN</td>\n",
       "      <td>NaN</td>\n",
       "      <td>NaN</td>\n",
       "      <td>NaN</td>\n",
       "    </tr>\n",
       "    <tr>\n",
       "      <th>45250</th>\n",
       "      <td>2017-11-29 22:00:00</td>\n",
       "      <td>NaN</td>\n",
       "      <td>NaN</td>\n",
       "      <td>NaN</td>\n",
       "      <td>NaN</td>\n",
       "      <td>NaN</td>\n",
       "      <td>NaN</td>\n",
       "    </tr>\n",
       "    <tr>\n",
       "      <th>45251</th>\n",
       "      <td>2017-11-29 23:00:00</td>\n",
       "      <td>NaN</td>\n",
       "      <td>NaN</td>\n",
       "      <td>NaN</td>\n",
       "      <td>NaN</td>\n",
       "      <td>NaN</td>\n",
       "      <td>NaN</td>\n",
       "    </tr>\n",
       "    <tr>\n",
       "      <th>45252</th>\n",
       "      <td>2017-11-30 00:00:00</td>\n",
       "      <td>NaN</td>\n",
       "      <td>NaN</td>\n",
       "      <td>NaN</td>\n",
       "      <td>NaN</td>\n",
       "      <td>NaN</td>\n",
       "      <td>NaN</td>\n",
       "    </tr>\n",
       "  </tbody>\n",
       "</table>\n",
       "<p>795 rows × 7 columns</p>\n",
       "</div>"
      ],
      "text/plain": [
       "                 datetime  Nahariyya_humidity  Nahariyya_pressure  \\\n",
       "39214 2017-03-23 10:00:00                63.0              1009.0   \n",
       "42559 2017-08-09 19:00:00                 NaN              1019.0   \n",
       "42560 2017-08-09 20:00:00                 NaN              1019.0   \n",
       "44461 2017-10-28 01:00:00                 NaN                 NaN   \n",
       "44462 2017-10-28 02:00:00                 NaN                 NaN   \n",
       "...                   ...                 ...                 ...   \n",
       "45248 2017-11-29 20:00:00                 NaN                 NaN   \n",
       "45249 2017-11-29 21:00:00                 NaN                 NaN   \n",
       "45250 2017-11-29 22:00:00                 NaN                 NaN   \n",
       "45251 2017-11-29 23:00:00                 NaN                 NaN   \n",
       "45252 2017-11-30 00:00:00                 NaN                 NaN   \n",
       "\n",
       "       Nahariyya_temperature Nahariyya_weather_description  \\\n",
       "39214                292.690                  sky is clear   \n",
       "42559                300.893                  sky is clear   \n",
       "42560                300.893                  sky is clear   \n",
       "44461                    NaN                           NaN   \n",
       "44462                    NaN                           NaN   \n",
       "...                      ...                           ...   \n",
       "45248                    NaN                           NaN   \n",
       "45249                    NaN                           NaN   \n",
       "45250                    NaN                           NaN   \n",
       "45251                    NaN                           NaN   \n",
       "45252                    NaN                           NaN   \n",
       "\n",
       "       Nahariyya_wind_direction  Nahariyya_wind_speed  \n",
       "39214                     340.0                   NaN  \n",
       "42559                       0.0                   0.0  \n",
       "42560                       0.0                   0.0  \n",
       "44461                       NaN                   NaN  \n",
       "44462                       NaN                   NaN  \n",
       "...                         ...                   ...  \n",
       "45248                       NaN                   NaN  \n",
       "45249                       NaN                   NaN  \n",
       "45250                       NaN                   NaN  \n",
       "45251                       NaN                   NaN  \n",
       "45252                       NaN                   NaN  \n",
       "\n",
       "[795 rows x 7 columns]"
      ]
     },
     "execution_count": 7,
     "metadata": {},
     "output_type": "execute_result"
    }
   ],
   "source": [
    "Nahariyya_nan = Nahariyya[Nahariyya.isna().any(axis=1)]\n",
    "Nahariyya_nan.tail(795) #checking for multiple NaN values per row"
   ]
  },
  {
   "cell_type": "code",
   "execution_count": 8,
   "id": "eef30c03",
   "metadata": {},
   "outputs": [],
   "source": [
    "Nahariyya = Nahariyya[Nahariyya.isnull().sum(axis=1) <= 1] #Removing rows with multiple NaN values"
   ]
  },
  {
   "cell_type": "code",
   "execution_count": 9,
   "id": "945bc142",
   "metadata": {},
   "outputs": [
    {
     "data": {
      "text/plain": [
       "(44458, 7)"
      ]
     },
     "execution_count": 9,
     "metadata": {},
     "output_type": "execute_result"
    }
   ],
   "source": [
    "Nahariyya.shape"
   ]
  },
  {
   "cell_type": "code",
   "execution_count": 10,
   "id": "230dae04",
   "metadata": {},
   "outputs": [
    {
     "data": {
      "text/html": [
       "<div>\n",
       "<style scoped>\n",
       "    .dataframe tbody tr th:only-of-type {\n",
       "        vertical-align: middle;\n",
       "    }\n",
       "\n",
       "    .dataframe tbody tr th {\n",
       "        vertical-align: top;\n",
       "    }\n",
       "\n",
       "    .dataframe thead th {\n",
       "        text-align: right;\n",
       "    }\n",
       "</style>\n",
       "<table border=\"1\" class=\"dataframe\">\n",
       "  <thead>\n",
       "    <tr style=\"text-align: right;\">\n",
       "      <th></th>\n",
       "      <th>datetime</th>\n",
       "      <th>Nahariyya_humidity</th>\n",
       "      <th>Nahariyya_pressure</th>\n",
       "      <th>Nahariyya_temperature</th>\n",
       "      <th>Nahariyya_weather_description</th>\n",
       "      <th>Nahariyya_wind_direction</th>\n",
       "      <th>Nahariyya_wind_speed</th>\n",
       "    </tr>\n",
       "  </thead>\n",
       "  <tbody>\n",
       "    <tr>\n",
       "      <th>3859</th>\n",
       "      <td>2013-03-11 07:00:00</td>\n",
       "      <td>21.0</td>\n",
       "      <td>1025.0</td>\n",
       "      <td>NaN</td>\n",
       "      <td>sky is clear</td>\n",
       "      <td>79.0</td>\n",
       "      <td>1.0</td>\n",
       "    </tr>\n",
       "    <tr>\n",
       "      <th>3860</th>\n",
       "      <td>2013-03-11 08:00:00</td>\n",
       "      <td>43.0</td>\n",
       "      <td>1021.0</td>\n",
       "      <td>NaN</td>\n",
       "      <td>sky is clear</td>\n",
       "      <td>159.0</td>\n",
       "      <td>3.0</td>\n",
       "    </tr>\n",
       "    <tr>\n",
       "      <th>4857</th>\n",
       "      <td>2013-04-21 21:00:00</td>\n",
       "      <td>NaN</td>\n",
       "      <td>1013.0</td>\n",
       "      <td>280.370</td>\n",
       "      <td>sky is clear</td>\n",
       "      <td>203.0</td>\n",
       "      <td>0.0</td>\n",
       "    </tr>\n",
       "    <tr>\n",
       "      <th>4858</th>\n",
       "      <td>2013-04-21 22:00:00</td>\n",
       "      <td>NaN</td>\n",
       "      <td>1013.0</td>\n",
       "      <td>280.370</td>\n",
       "      <td>sky is clear</td>\n",
       "      <td>50.0</td>\n",
       "      <td>0.0</td>\n",
       "    </tr>\n",
       "    <tr>\n",
       "      <th>4864</th>\n",
       "      <td>2013-04-22 04:00:00</td>\n",
       "      <td>NaN</td>\n",
       "      <td>1013.0</td>\n",
       "      <td>281.480</td>\n",
       "      <td>light rain</td>\n",
       "      <td>183.0</td>\n",
       "      <td>0.0</td>\n",
       "    </tr>\n",
       "    <tr>\n",
       "      <th>31516</th>\n",
       "      <td>2016-05-06 16:00:00</td>\n",
       "      <td>NaN</td>\n",
       "      <td>1025.0</td>\n",
       "      <td>293.237</td>\n",
       "      <td>light rain</td>\n",
       "      <td>272.0</td>\n",
       "      <td>4.0</td>\n",
       "    </tr>\n",
       "    <tr>\n",
       "      <th>31517</th>\n",
       "      <td>2016-05-06 17:00:00</td>\n",
       "      <td>NaN</td>\n",
       "      <td>1025.0</td>\n",
       "      <td>293.237</td>\n",
       "      <td>light rain</td>\n",
       "      <td>272.0</td>\n",
       "      <td>4.0</td>\n",
       "    </tr>\n",
       "    <tr>\n",
       "      <th>31518</th>\n",
       "      <td>2016-05-06 18:00:00</td>\n",
       "      <td>NaN</td>\n",
       "      <td>1025.0</td>\n",
       "      <td>293.237</td>\n",
       "      <td>light rain</td>\n",
       "      <td>272.0</td>\n",
       "      <td>4.0</td>\n",
       "    </tr>\n",
       "    <tr>\n",
       "      <th>31519</th>\n",
       "      <td>2016-05-06 19:00:00</td>\n",
       "      <td>NaN</td>\n",
       "      <td>1025.0</td>\n",
       "      <td>293.237</td>\n",
       "      <td>light rain</td>\n",
       "      <td>272.0</td>\n",
       "      <td>4.0</td>\n",
       "    </tr>\n",
       "    <tr>\n",
       "      <th>31520</th>\n",
       "      <td>2016-05-06 20:00:00</td>\n",
       "      <td>NaN</td>\n",
       "      <td>1025.0</td>\n",
       "      <td>293.140</td>\n",
       "      <td>overcast clouds</td>\n",
       "      <td>275.0</td>\n",
       "      <td>5.0</td>\n",
       "    </tr>\n",
       "    <tr>\n",
       "      <th>31521</th>\n",
       "      <td>2016-05-06 21:00:00</td>\n",
       "      <td>NaN</td>\n",
       "      <td>1025.0</td>\n",
       "      <td>293.140</td>\n",
       "      <td>overcast clouds</td>\n",
       "      <td>275.0</td>\n",
       "      <td>5.0</td>\n",
       "    </tr>\n",
       "    <tr>\n",
       "      <th>31522</th>\n",
       "      <td>2016-05-06 22:00:00</td>\n",
       "      <td>NaN</td>\n",
       "      <td>1025.0</td>\n",
       "      <td>293.140</td>\n",
       "      <td>overcast clouds</td>\n",
       "      <td>275.0</td>\n",
       "      <td>5.0</td>\n",
       "    </tr>\n",
       "    <tr>\n",
       "      <th>31781</th>\n",
       "      <td>2016-05-17 17:00:00</td>\n",
       "      <td>NaN</td>\n",
       "      <td>1025.0</td>\n",
       "      <td>295.297</td>\n",
       "      <td>sky is clear</td>\n",
       "      <td>0.0</td>\n",
       "      <td>0.0</td>\n",
       "    </tr>\n",
       "    <tr>\n",
       "      <th>31782</th>\n",
       "      <td>2016-05-17 18:00:00</td>\n",
       "      <td>NaN</td>\n",
       "      <td>1025.0</td>\n",
       "      <td>295.297</td>\n",
       "      <td>sky is clear</td>\n",
       "      <td>0.0</td>\n",
       "      <td>0.0</td>\n",
       "    </tr>\n",
       "    <tr>\n",
       "      <th>31783</th>\n",
       "      <td>2016-05-17 19:00:00</td>\n",
       "      <td>NaN</td>\n",
       "      <td>1025.0</td>\n",
       "      <td>295.297</td>\n",
       "      <td>sky is clear</td>\n",
       "      <td>0.0</td>\n",
       "      <td>0.0</td>\n",
       "    </tr>\n",
       "    <tr>\n",
       "      <th>31784</th>\n",
       "      <td>2016-05-17 20:00:00</td>\n",
       "      <td>NaN</td>\n",
       "      <td>1026.0</td>\n",
       "      <td>295.174</td>\n",
       "      <td>few clouds</td>\n",
       "      <td>0.0</td>\n",
       "      <td>0.0</td>\n",
       "    </tr>\n",
       "    <tr>\n",
       "      <th>31785</th>\n",
       "      <td>2016-05-17 21:00:00</td>\n",
       "      <td>NaN</td>\n",
       "      <td>1026.0</td>\n",
       "      <td>295.174</td>\n",
       "      <td>few clouds</td>\n",
       "      <td>0.0</td>\n",
       "      <td>0.0</td>\n",
       "    </tr>\n",
       "    <tr>\n",
       "      <th>31786</th>\n",
       "      <td>2016-05-17 22:00:00</td>\n",
       "      <td>NaN</td>\n",
       "      <td>1026.0</td>\n",
       "      <td>295.174</td>\n",
       "      <td>few clouds</td>\n",
       "      <td>0.0</td>\n",
       "      <td>0.0</td>\n",
       "    </tr>\n",
       "    <tr>\n",
       "      <th>31787</th>\n",
       "      <td>2016-05-17 23:00:00</td>\n",
       "      <td>NaN</td>\n",
       "      <td>1026.0</td>\n",
       "      <td>295.174</td>\n",
       "      <td>few clouds</td>\n",
       "      <td>0.0</td>\n",
       "      <td>0.0</td>\n",
       "    </tr>\n",
       "    <tr>\n",
       "      <th>31788</th>\n",
       "      <td>2016-05-18 00:00:00</td>\n",
       "      <td>NaN</td>\n",
       "      <td>1025.0</td>\n",
       "      <td>294.731</td>\n",
       "      <td>few clouds</td>\n",
       "      <td>0.0</td>\n",
       "      <td>0.0</td>\n",
       "    </tr>\n",
       "    <tr>\n",
       "      <th>31789</th>\n",
       "      <td>2016-05-18 01:00:00</td>\n",
       "      <td>NaN</td>\n",
       "      <td>1025.0</td>\n",
       "      <td>294.731</td>\n",
       "      <td>few clouds</td>\n",
       "      <td>0.0</td>\n",
       "      <td>0.0</td>\n",
       "    </tr>\n",
       "    <tr>\n",
       "      <th>31790</th>\n",
       "      <td>2016-05-18 02:00:00</td>\n",
       "      <td>NaN</td>\n",
       "      <td>1025.0</td>\n",
       "      <td>294.731</td>\n",
       "      <td>few clouds</td>\n",
       "      <td>0.0</td>\n",
       "      <td>0.0</td>\n",
       "    </tr>\n",
       "    <tr>\n",
       "      <th>31791</th>\n",
       "      <td>2016-05-18 03:00:00</td>\n",
       "      <td>NaN</td>\n",
       "      <td>1025.0</td>\n",
       "      <td>294.731</td>\n",
       "      <td>few clouds</td>\n",
       "      <td>0.0</td>\n",
       "      <td>0.0</td>\n",
       "    </tr>\n",
       "    <tr>\n",
       "      <th>39214</th>\n",
       "      <td>2017-03-23 10:00:00</td>\n",
       "      <td>63.0</td>\n",
       "      <td>1009.0</td>\n",
       "      <td>292.690</td>\n",
       "      <td>sky is clear</td>\n",
       "      <td>340.0</td>\n",
       "      <td>NaN</td>\n",
       "    </tr>\n",
       "    <tr>\n",
       "      <th>42559</th>\n",
       "      <td>2017-08-09 19:00:00</td>\n",
       "      <td>NaN</td>\n",
       "      <td>1019.0</td>\n",
       "      <td>300.893</td>\n",
       "      <td>sky is clear</td>\n",
       "      <td>0.0</td>\n",
       "      <td>0.0</td>\n",
       "    </tr>\n",
       "    <tr>\n",
       "      <th>42560</th>\n",
       "      <td>2017-08-09 20:00:00</td>\n",
       "      <td>NaN</td>\n",
       "      <td>1019.0</td>\n",
       "      <td>300.893</td>\n",
       "      <td>sky is clear</td>\n",
       "      <td>0.0</td>\n",
       "      <td>0.0</td>\n",
       "    </tr>\n",
       "  </tbody>\n",
       "</table>\n",
       "</div>"
      ],
      "text/plain": [
       "                 datetime  Nahariyya_humidity  Nahariyya_pressure  \\\n",
       "3859  2013-03-11 07:00:00                21.0              1025.0   \n",
       "3860  2013-03-11 08:00:00                43.0              1021.0   \n",
       "4857  2013-04-21 21:00:00                 NaN              1013.0   \n",
       "4858  2013-04-21 22:00:00                 NaN              1013.0   \n",
       "4864  2013-04-22 04:00:00                 NaN              1013.0   \n",
       "31516 2016-05-06 16:00:00                 NaN              1025.0   \n",
       "31517 2016-05-06 17:00:00                 NaN              1025.0   \n",
       "31518 2016-05-06 18:00:00                 NaN              1025.0   \n",
       "31519 2016-05-06 19:00:00                 NaN              1025.0   \n",
       "31520 2016-05-06 20:00:00                 NaN              1025.0   \n",
       "31521 2016-05-06 21:00:00                 NaN              1025.0   \n",
       "31522 2016-05-06 22:00:00                 NaN              1025.0   \n",
       "31781 2016-05-17 17:00:00                 NaN              1025.0   \n",
       "31782 2016-05-17 18:00:00                 NaN              1025.0   \n",
       "31783 2016-05-17 19:00:00                 NaN              1025.0   \n",
       "31784 2016-05-17 20:00:00                 NaN              1026.0   \n",
       "31785 2016-05-17 21:00:00                 NaN              1026.0   \n",
       "31786 2016-05-17 22:00:00                 NaN              1026.0   \n",
       "31787 2016-05-17 23:00:00                 NaN              1026.0   \n",
       "31788 2016-05-18 00:00:00                 NaN              1025.0   \n",
       "31789 2016-05-18 01:00:00                 NaN              1025.0   \n",
       "31790 2016-05-18 02:00:00                 NaN              1025.0   \n",
       "31791 2016-05-18 03:00:00                 NaN              1025.0   \n",
       "39214 2017-03-23 10:00:00                63.0              1009.0   \n",
       "42559 2017-08-09 19:00:00                 NaN              1019.0   \n",
       "42560 2017-08-09 20:00:00                 NaN              1019.0   \n",
       "\n",
       "       Nahariyya_temperature Nahariyya_weather_description  \\\n",
       "3859                     NaN                  sky is clear   \n",
       "3860                     NaN                  sky is clear   \n",
       "4857                 280.370                  sky is clear   \n",
       "4858                 280.370                  sky is clear   \n",
       "4864                 281.480                    light rain   \n",
       "31516                293.237                    light rain   \n",
       "31517                293.237                    light rain   \n",
       "31518                293.237                    light rain   \n",
       "31519                293.237                    light rain   \n",
       "31520                293.140               overcast clouds   \n",
       "31521                293.140               overcast clouds   \n",
       "31522                293.140               overcast clouds   \n",
       "31781                295.297                  sky is clear   \n",
       "31782                295.297                  sky is clear   \n",
       "31783                295.297                  sky is clear   \n",
       "31784                295.174                    few clouds   \n",
       "31785                295.174                    few clouds   \n",
       "31786                295.174                    few clouds   \n",
       "31787                295.174                    few clouds   \n",
       "31788                294.731                    few clouds   \n",
       "31789                294.731                    few clouds   \n",
       "31790                294.731                    few clouds   \n",
       "31791                294.731                    few clouds   \n",
       "39214                292.690                  sky is clear   \n",
       "42559                300.893                  sky is clear   \n",
       "42560                300.893                  sky is clear   \n",
       "\n",
       "       Nahariyya_wind_direction  Nahariyya_wind_speed  \n",
       "3859                       79.0                   1.0  \n",
       "3860                      159.0                   3.0  \n",
       "4857                      203.0                   0.0  \n",
       "4858                       50.0                   0.0  \n",
       "4864                      183.0                   0.0  \n",
       "31516                     272.0                   4.0  \n",
       "31517                     272.0                   4.0  \n",
       "31518                     272.0                   4.0  \n",
       "31519                     272.0                   4.0  \n",
       "31520                     275.0                   5.0  \n",
       "31521                     275.0                   5.0  \n",
       "31522                     275.0                   5.0  \n",
       "31781                       0.0                   0.0  \n",
       "31782                       0.0                   0.0  \n",
       "31783                       0.0                   0.0  \n",
       "31784                       0.0                   0.0  \n",
       "31785                       0.0                   0.0  \n",
       "31786                       0.0                   0.0  \n",
       "31787                       0.0                   0.0  \n",
       "31788                       0.0                   0.0  \n",
       "31789                       0.0                   0.0  \n",
       "31790                       0.0                   0.0  \n",
       "31791                       0.0                   0.0  \n",
       "39214                     340.0                   NaN  \n",
       "42559                       0.0                   0.0  \n",
       "42560                       0.0                   0.0  "
      ]
     },
     "execution_count": 10,
     "metadata": {},
     "output_type": "execute_result"
    }
   ],
   "source": [
    "Nahariyya[Nahariyya.isna().any(axis=1)] #Checking for rows with single NaN values"
   ]
  },
  {
   "cell_type": "code",
   "execution_count": 11,
   "id": "ae924f86",
   "metadata": {},
   "outputs": [
    {
     "data": {
      "text/plain": [
       "datetime                          0\n",
       "Nahariyya_humidity               23\n",
       "Nahariyya_pressure                0\n",
       "Nahariyya_temperature             2\n",
       "Nahariyya_weather_description     0\n",
       "Nahariyya_wind_direction          0\n",
       "Nahariyya_wind_speed              1\n",
       "dtype: int64"
      ]
     },
     "execution_count": 11,
     "metadata": {},
     "output_type": "execute_result"
    }
   ],
   "source": [
    "Nahariyya[Nahariyya.isna().any(axis=1)].isna().sum() #Checking number of NaN values per column"
   ]
  },
  {
   "cell_type": "markdown",
   "id": "2fb88e57",
   "metadata": {},
   "source": [
    "### Check for Outliers"
   ]
  },
  {
   "cell_type": "code",
   "execution_count": 12,
   "id": "dde05405",
   "metadata": {},
   "outputs": [
    {
     "data": {
      "text/plain": [
       "<AxesSubplot:xlabel='Nahariyya_pressure'>"
      ]
     },
     "execution_count": 12,
     "metadata": {},
     "output_type": "execute_result"
    },
    {
     "data": {
      "image/png": "[encoded data removed]",
      "text/plain": [
       "<Figure size 432x288 with 1 Axes>"
      ]
     },
     "metadata": {
      "needs_background": "light"
     },
     "output_type": "display_data"
    }
   ],
   "source": [
    "sns.boxplot(x=Nahariyya['Nahariyya_pressure'])"
   ]
  },
  {
   "cell_type": "code",
   "execution_count": 13,
   "id": "286e0724",
   "metadata": {},
   "outputs": [
    {
     "data": {
      "text/plain": [
       "<AxesSubplot:xlabel='Nahariyya_temperature'>"
      ]
     },
     "execution_count": 13,
     "metadata": {},
     "output_type": "execute_result"
    },
    {
     "data": {
      "image/png": "[encoded data removed]",
      "text/plain": [
       "<Figure size 432x288 with 1 Axes>"
      ]
     },
     "metadata": {
      "needs_background": "light"
     },
     "output_type": "display_data"
    }
   ],
   "source": [
    "sns.boxplot(x=Nahariyya['Nahariyya_temperature'])"
   ]
  },
  {
   "cell_type": "code",
   "execution_count": 14,
   "id": "7ceaa0e1",
   "metadata": {},
   "outputs": [
    {
     "data": {
      "text/plain": [
       "<AxesSubplot:xlabel='Nahariyya_humidity'>"
      ]
     },
     "execution_count": 14,
     "metadata": {},
     "output_type": "execute_result"
    },
    {
     "data": {
      "image/png": "[encoded data removed]",
      "text/plain": [
       "<Figure size 432x288 with 1 Axes>"
      ]
     },
     "metadata": {
      "needs_background": "light"
     },
     "output_type": "display_data"
    }
   ],
   "source": [
    "sns.boxplot(x=Nahariyya['Nahariyya_humidity'])"
   ]
  },
  {
   "cell_type": "code",
   "execution_count": 15,
   "id": "7604e907",
   "metadata": {},
   "outputs": [
    {
     "data": {
      "text/plain": [
       "<AxesSubplot:xlabel='Nahariyya_wind_direction'>"
      ]
     },
     "execution_count": 15,
     "metadata": {},
     "output_type": "execute_result"
    },
    {
     "data": {
      "image/png": "[encoded data removed]",
      "text/plain": [
       "<Figure size 432x288 with 1 Axes>"
      ]
     },
     "metadata": {
      "needs_background": "light"
     },
     "output_type": "display_data"
    }
   ],
   "source": [
    "sns.boxplot(x=Nahariyya['Nahariyya_wind_direction'])"
   ]
  },
  {
   "cell_type": "code",
   "execution_count": 16,
   "id": "ea53f45d",
   "metadata": {},
   "outputs": [
    {
     "data": {
      "text/plain": [
       "<AxesSubplot:xlabel='Nahariyya_wind_speed'>"
      ]
     },
     "execution_count": 16,
     "metadata": {},
     "output_type": "execute_result"
    },
    {
     "data": {
      "image/png": "[encoded data removed]",
      "text/plain": [
       "<Figure size 432x288 with 1 Axes>"
      ]
     },
     "metadata": {
      "needs_background": "light"
     },
     "output_type": "display_data"
    }
   ],
   "source": [
    "sns.boxplot(x=Nahariyya['Nahariyya_wind_speed'])"
   ]
  },
  {
   "cell_type": "code",
   "execution_count": 17,
   "id": "c8122005",
   "metadata": {},
   "outputs": [
    {
     "data": {
      "text/html": [
       "<div>\n",
       "<style scoped>\n",
       "    .dataframe tbody tr th:only-of-type {\n",
       "        vertical-align: middle;\n",
       "    }\n",
       "\n",
       "    .dataframe tbody tr th {\n",
       "        vertical-align: top;\n",
       "    }\n",
       "\n",
       "    .dataframe thead th {\n",
       "        text-align: right;\n",
       "    }\n",
       "</style>\n",
       "<table border=\"1\" class=\"dataframe\">\n",
       "  <thead>\n",
       "    <tr style=\"text-align: right;\">\n",
       "      <th></th>\n",
       "      <th>Nahariyya_humidity</th>\n",
       "      <th>Nahariyya_pressure</th>\n",
       "      <th>Nahariyya_temperature</th>\n",
       "      <th>Nahariyya_wind_direction</th>\n",
       "      <th>Nahariyya_wind_speed</th>\n",
       "    </tr>\n",
       "  </thead>\n",
       "  <tbody>\n",
       "    <tr>\n",
       "      <th>count</th>\n",
       "      <td>44435.000000</td>\n",
       "      <td>44458.000000</td>\n",
       "      <td>44456.000000</td>\n",
       "      <td>44458.000000</td>\n",
       "      <td>44457.000000</td>\n",
       "    </tr>\n",
       "    <tr>\n",
       "      <th>mean</th>\n",
       "      <td>78.607449</td>\n",
       "      <td>1015.901997</td>\n",
       "      <td>294.094803</td>\n",
       "      <td>194.907801</td>\n",
       "      <td>3.024428</td>\n",
       "    </tr>\n",
       "    <tr>\n",
       "      <th>std</th>\n",
       "      <td>23.682065</td>\n",
       "      <td>10.238495</td>\n",
       "      <td>6.304118</td>\n",
       "      <td>111.981589</td>\n",
       "      <td>2.124433</td>\n",
       "    </tr>\n",
       "    <tr>\n",
       "      <th>min</th>\n",
       "      <td>5.000000</td>\n",
       "      <td>980.000000</td>\n",
       "      <td>268.682000</td>\n",
       "      <td>0.000000</td>\n",
       "      <td>0.000000</td>\n",
       "    </tr>\n",
       "    <tr>\n",
       "      <th>25%</th>\n",
       "      <td>61.000000</td>\n",
       "      <td>1011.000000</td>\n",
       "      <td>289.881833</td>\n",
       "      <td>102.000000</td>\n",
       "      <td>1.000000</td>\n",
       "    </tr>\n",
       "    <tr>\n",
       "      <th>50%</th>\n",
       "      <td>87.000000</td>\n",
       "      <td>1017.000000</td>\n",
       "      <td>294.150000</td>\n",
       "      <td>223.000000</td>\n",
       "      <td>3.000000</td>\n",
       "    </tr>\n",
       "    <tr>\n",
       "      <th>75%</th>\n",
       "      <td>100.000000</td>\n",
       "      <td>1023.000000</td>\n",
       "      <td>298.930000</td>\n",
       "      <td>290.000000</td>\n",
       "      <td>4.000000</td>\n",
       "    </tr>\n",
       "    <tr>\n",
       "      <th>max</th>\n",
       "      <td>100.000000</td>\n",
       "      <td>1042.000000</td>\n",
       "      <td>313.150000</td>\n",
       "      <td>360.000000</td>\n",
       "      <td>17.000000</td>\n",
       "    </tr>\n",
       "  </tbody>\n",
       "</table>\n",
       "</div>"
      ],
      "text/plain": [
       "       Nahariyya_humidity  Nahariyya_pressure  Nahariyya_temperature  \\\n",
       "count        44435.000000        44458.000000           44456.000000   \n",
       "mean            78.607449         1015.901997             294.094803   \n",
       "std             23.682065           10.238495               6.304118   \n",
       "min              5.000000          980.000000             268.682000   \n",
       "25%             61.000000         1011.000000             289.881833   \n",
       "50%             87.000000         1017.000000             294.150000   \n",
       "75%            100.000000         1023.000000             298.930000   \n",
       "max            100.000000         1042.000000             313.150000   \n",
       "\n",
       "       Nahariyya_wind_direction  Nahariyya_wind_speed  \n",
       "count              44458.000000          44457.000000  \n",
       "mean                 194.907801              3.024428  \n",
       "std                  111.981589              2.124433  \n",
       "min                    0.000000              0.000000  \n",
       "25%                  102.000000              1.000000  \n",
       "50%                  223.000000              3.000000  \n",
       "75%                  290.000000              4.000000  \n",
       "max                  360.000000             17.000000  "
      ]
     },
     "execution_count": 17,
     "metadata": {},
     "output_type": "execute_result"
    }
   ],
   "source": [
    "Nahariyya.describe()"
   ]
  },
  {
   "cell_type": "code",
   "execution_count": 19,
   "id": "67a0a173",
   "metadata": {},
   "outputs": [],
   "source": [
    "Nahariyya.dropna(inplace=True) #Remove rows with NaN values"
   ]
  },
  {
   "cell_type": "code",
   "execution_count": 21,
   "id": "553d13e2",
   "metadata": {},
   "outputs": [
    {
     "data": {
      "text/plain": [
       "datetime                         0\n",
       "Nahariyya_humidity               0\n",
       "Nahariyya_pressure               0\n",
       "Nahariyya_temperature            0\n",
       "Nahariyya_weather_description    0\n",
       "Nahariyya_wind_direction         0\n",
       "Nahariyya_wind_speed             0\n",
       "dtype: int64"
      ]
     },
     "execution_count": 21,
     "metadata": {},
     "output_type": "execute_result"
    }
   ],
   "source": [
    "Nahariyya[Nahariyya.isna().any(axis=1)].count() #Confirm removal of NaN values"
   ]
  },
  {
   "cell_type": "markdown",
   "id": "6187c6ad",
   "metadata": {},
   "source": [
    "### Check for insights"
   ]
  },
  {
   "cell_type": "code",
   "execution_count": 22,
   "id": "2d02cf84",
   "metadata": {},
   "outputs": [
    {
     "data": {
      "text/plain": [
       "<AxesSubplot:>"
      ]
     },
     "execution_count": 22,
     "metadata": {},
     "output_type": "execute_result"
    },
    {
     "data": {
      "image/png": "[encoded data removed]",
      "text/plain": [
       "<Figure size 432x288 with 1 Axes>"
      ]
     },
     "metadata": {
      "needs_background": "light"
     },
     "output_type": "display_data"
    }
   ],
   "source": [
    "Nahariyya['Nahariyya_weather_description'].value_counts().plot(kind='bar') #Check distribution of target variable"
   ]
  },
  {
   "cell_type": "code",
   "execution_count": 23,
   "id": "dbe382ce",
   "metadata": {},
   "outputs": [
    {
     "data": {
      "text/html": [
       "<div>\n",
       "<style scoped>\n",
       "    .dataframe tbody tr th:only-of-type {\n",
       "        vertical-align: middle;\n",
       "    }\n",
       "\n",
       "    .dataframe tbody tr th {\n",
       "        vertical-align: top;\n",
       "    }\n",
       "\n",
       "    .dataframe thead th {\n",
       "        text-align: right;\n",
       "    }\n",
       "</style>\n",
       "<table border=\"1\" class=\"dataframe\">\n",
       "  <thead>\n",
       "    <tr style=\"text-align: right;\">\n",
       "      <th></th>\n",
       "      <th>Nahariyya_humidity</th>\n",
       "      <th>Nahariyya_pressure</th>\n",
       "      <th>Nahariyya_temperature</th>\n",
       "      <th>Nahariyya_wind_direction</th>\n",
       "      <th>Nahariyya_wind_speed</th>\n",
       "    </tr>\n",
       "  </thead>\n",
       "  <tbody>\n",
       "    <tr>\n",
       "      <th>count</th>\n",
       "      <td>44432.000000</td>\n",
       "      <td>44432.000000</td>\n",
       "      <td>44432.000000</td>\n",
       "      <td>44432.000000</td>\n",
       "      <td>44432.000000</td>\n",
       "    </tr>\n",
       "    <tr>\n",
       "      <th>mean</th>\n",
       "      <td>78.609898</td>\n",
       "      <td>1015.898114</td>\n",
       "      <td>294.095337</td>\n",
       "      <td>194.955978</td>\n",
       "      <td>3.025342</td>\n",
       "    </tr>\n",
       "    <tr>\n",
       "      <th>std</th>\n",
       "      <td>23.680569</td>\n",
       "      <td>10.239547</td>\n",
       "      <td>6.304666</td>\n",
       "      <td>111.954661</td>\n",
       "      <td>2.124151</td>\n",
       "    </tr>\n",
       "    <tr>\n",
       "      <th>min</th>\n",
       "      <td>5.000000</td>\n",
       "      <td>980.000000</td>\n",
       "      <td>268.682000</td>\n",
       "      <td>0.000000</td>\n",
       "      <td>0.000000</td>\n",
       "    </tr>\n",
       "    <tr>\n",
       "      <th>25%</th>\n",
       "      <td>61.000000</td>\n",
       "      <td>1011.000000</td>\n",
       "      <td>289.880000</td>\n",
       "      <td>102.000000</td>\n",
       "      <td>1.000000</td>\n",
       "    </tr>\n",
       "    <tr>\n",
       "      <th>50%</th>\n",
       "      <td>87.000000</td>\n",
       "      <td>1017.000000</td>\n",
       "      <td>294.150000</td>\n",
       "      <td>223.000000</td>\n",
       "      <td>3.000000</td>\n",
       "    </tr>\n",
       "    <tr>\n",
       "      <th>75%</th>\n",
       "      <td>100.000000</td>\n",
       "      <td>1023.000000</td>\n",
       "      <td>298.932000</td>\n",
       "      <td>290.000000</td>\n",
       "      <td>4.000000</td>\n",
       "    </tr>\n",
       "    <tr>\n",
       "      <th>max</th>\n",
       "      <td>100.000000</td>\n",
       "      <td>1042.000000</td>\n",
       "      <td>313.150000</td>\n",
       "      <td>360.000000</td>\n",
       "      <td>17.000000</td>\n",
       "    </tr>\n",
       "  </tbody>\n",
       "</table>\n",
       "</div>"
      ],
      "text/plain": [
       "       Nahariyya_humidity  Nahariyya_pressure  Nahariyya_temperature  \\\n",
       "count        44432.000000        44432.000000           44432.000000   \n",
       "mean            78.609898         1015.898114             294.095337   \n",
       "std             23.680569           10.239547               6.304666   \n",
       "min              5.000000          980.000000             268.682000   \n",
       "25%             61.000000         1011.000000             289.880000   \n",
       "50%             87.000000         1017.000000             294.150000   \n",
       "75%            100.000000         1023.000000             298.932000   \n",
       "max            100.000000         1042.000000             313.150000   \n",
       "\n",
       "       Nahariyya_wind_direction  Nahariyya_wind_speed  \n",
       "count              44432.000000          44432.000000  \n",
       "mean                 194.955978              3.025342  \n",
       "std                  111.954661              2.124151  \n",
       "min                    0.000000              0.000000  \n",
       "25%                  102.000000              1.000000  \n",
       "50%                  223.000000              3.000000  \n",
       "75%                  290.000000              4.000000  \n",
       "max                  360.000000             17.000000  "
      ]
     },
     "execution_count": 23,
     "metadata": {},
     "output_type": "execute_result"
    }
   ],
   "source": [
    "Nahariyya.describe()"
   ]
  },
  {
   "cell_type": "code",
   "execution_count": 24,
   "id": "199fc53e",
   "metadata": {},
   "outputs": [
    {
     "data": {
      "text/plain": [
       "<AxesSubplot:>"
      ]
     },
     "execution_count": 24,
     "metadata": {},
     "output_type": "execute_result"
    },
    {
     "data": {
      "image/png": "[encoded data removed]",
      "text/plain": [
       "<Figure size 432x288 with 2 Axes>"
      ]
     },
     "metadata": {
      "needs_background": "light"
     },
     "output_type": "display_data"
    }
   ],
   "source": [
    "sns.heatmap(Nahariyya.corr(),cbar=True,annot=True,cmap='Blues') #checking for correlation"
   ]
  },
  {
   "cell_type": "code",
   "execution_count": null,
   "id": "1b29dfb4",
   "metadata": {},
   "outputs": [],
   "source": []
  }
 ],
 "metadata": {
  "kernelspec": {
   "display_name": "Python 3 (ipykernel)",
   "language": "python",
   "name": "python3"
  },
  "language_info": {
   "codemirror_mode": {
    "name": "ipython",
    "version": 3
   },
   "file_extension": ".py",
   "mimetype": "text/x-python",
   "name": "python",
   "nbconvert_exporter": "python",
   "pygments_lexer": "ipython3",
   "version": "3.9.7"
  }
 },
 "nbformat": 4,
 "nbformat_minor": 5
}
