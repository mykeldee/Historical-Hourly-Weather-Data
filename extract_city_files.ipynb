{
 "cells": [
  {
   "cell_type": "markdown",
   "id": "147fe2db",
   "metadata": {},
   "source": [
    "### Import Important Libraries"
   ]
  },
  {
   "cell_type": "code",
   "execution_count": 2,
   "id": "8cb15bcf",
   "metadata": {},
   "outputs": [],
   "source": [
    "import pandas as pd\n",
    "import numpy as np\n",
    "import seaborn as sns\n",
    "from matplotlib import pyplot as plt\n",
    "import os"
   ]
  },
  {
   "cell_type": "markdown",
   "id": "69c414fa",
   "metadata": {},
   "source": [
    "### Get all files from the folder"
   ]
  },
  {
   "cell_type": "code",
   "execution_count": 3,
   "id": "0ee21c65",
   "metadata": {},
   "outputs": [],
   "source": [
    "def get_files(file_name, directory):\n",
    "              file_name = os.listdir(f'./{directory}')\n",
    "              return file_name"
   ]
  },
  {
   "cell_type": "markdown",
   "id": "aca3b803",
   "metadata": {},
   "source": [
    "### Get the names of all files in a list object"
   ]
  },
  {
   "cell_type": "code",
   "execution_count": 4,
   "id": "59eb8456",
   "metadata": {},
   "outputs": [],
   "source": [
    "def get_names(files):\n",
    "    return [x[:-4] for x in files]"
   ]
  },
  {
   "cell_type": "code",
   "execution_count": 5,
   "id": "45f4a24d",
   "metadata": {},
   "outputs": [],
   "source": [
    "files = get_files('files', 'archive')\n",
    "file_names = get_names(files)"
   ]
  },
  {
   "cell_type": "markdown",
   "id": "b23783b9",
   "metadata": {},
   "source": [
    "### Get city features from each file and merge into one file for each city"
   ]
  },
  {
   "cell_type": "code",
   "execution_count": 6,
   "id": "e191261d",
   "metadata": {},
   "outputs": [],
   "source": [
    "def merge_city(city):\n",
    "    merged=pd.read_csv('./archive/humidity.csv', usecols=['datetime'])\n",
    "    count=0\n",
    "   \n",
    "    for file in files:\n",
    "        vars()[file_names[count]] = pd.read_csv(f'./archive/{file}')\n",
    "        vars()[file_names[count]].columns+=f'_{file_names[count]}'\n",
    "        merged = pd.concat([merged, vars()[file_names[count]][f\"{city}_{file_names[count]}\"]], axis = 1)\n",
    "        count += 1\n",
    "    merged.to_csv(f'./cities/{city}.csv')"
   ]
  },
  {
   "cell_type": "markdown",
   "id": "c74c090d",
   "metadata": {},
   "source": [
    "### Get city names in a list object"
   ]
  },
  {
   "cell_type": "code",
   "execution_count": 16,
   "id": "1496c26c",
   "metadata": {
    "scrolled": true
   },
   "outputs": [],
   "source": [
    "city_names=pd.read_csv('./city_attributes.csv')['City'].to_list()"
   ]
  },
  {
   "cell_type": "markdown",
   "id": "99a66f70",
   "metadata": {},
   "source": [
    "### Extract merged file for each city"
   ]
  },
  {
   "cell_type": "code",
   "execution_count": 15,
   "id": "772e36e5",
   "metadata": {},
   "outputs": [],
   "source": [
    "for city in city_names:\n",
    "    merge_city(city)"
   ]
  }
 ],
 "metadata": {
  "kernelspec": {
   "display_name": "Python 3 (ipykernel)",
   "language": "python",
   "name": "python3"
  },
  "language_info": {
   "codemirror_mode": {
    "name": "ipython",
    "version": 3
   },
   "file_extension": ".py",
   "mimetype": "text/x-python",
   "name": "python",
   "nbconvert_exporter": "python",
   "pygments_lexer": "ipython3",
   "version": "3.9.7"
  }
 },
 "nbformat": 4,
 "nbformat_minor": 5
}
